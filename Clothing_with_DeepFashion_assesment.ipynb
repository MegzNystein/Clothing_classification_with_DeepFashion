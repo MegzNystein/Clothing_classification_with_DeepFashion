{
  "nbformat": 4,
  "nbformat_minor": 0,
  "metadata": {
    "colab": {
      "name": "Clothing_with_DeepFashion_assesment.ipynb",
      "provenance": [],
      "collapsed_sections": []
    },
    "kernelspec": {
      "name": "python3",
      "display_name": "Python 3"
    },
    "language_info": {
      "name": "python"
    },
    "accelerator": "GPU"
  },
  "cells": [
    {
      "cell_type": "markdown",
      "source": [
        "# cloning the dataset"
      ],
      "metadata": {
        "id": "r01NyZyd1qPQ"
      }
    },
    {
      "cell_type": "code",
      "source": [
        "! git clone https://github.com/alexeygrigorev/clothing-dataset-small.git"
      ],
      "metadata": {
        "colab": {
          "base_uri": "https://localhost:8080/"
        },
        "id": "lekg7I5_wXHS",
        "outputId": "737729b0-fcd8-4baa-be1f-0a18338f18cd"
      },
      "execution_count": 1,
      "outputs": [
        {
          "output_type": "stream",
          "name": "stdout",
          "text": [
            "Cloning into 'clothing-dataset-small'...\n",
            "remote: Enumerating objects: 3839, done.\u001b[K\n",
            "remote: Counting objects: 100% (400/400), done.\u001b[K\n",
            "remote: Compressing objects: 100% (400/400), done.\u001b[K\n",
            "remote: Total 3839 (delta 9), reused 384 (delta 0), pack-reused 3439\u001b[K\n",
            "Receiving objects: 100% (3839/3839), 100.58 MiB | 17.82 MiB/s, done.\n",
            "Resolving deltas: 100% (10/10), done.\n"
          ]
        }
      ]
    },
    {
      "cell_type": "code",
      "execution_count": 2,
      "metadata": {
        "id": "jn5WG0YowQj3"
      },
      "outputs": [],
      "source": [
        "import os\n",
        "import numpy as np\n",
        "import pandas as pd\n",
        "\n",
        "\n",
        "import matplotlib.pyplot as plt\n",
        "%matplotlib inline\n",
        "import tensorflow as tf\n",
        "from tensorflow import keras\n",
        "\n",
        "from tensorflow.keras.preprocessing.image import load_img \n",
        "from tensorflow.keras.preprocessing.image import ImageDataGenerator"
      ]
    },
    {
      "cell_type": "code",
      "source": [
        "base_dir = '/content/clothing-dataset-small'\n",
        "\n",
        "train_dir = os.path.join(base_dir, 'train')\n",
        "validation_dir = os.path.join(base_dir, 'validation')\n",
        "test_dir = os.path.join(base_dir, 'test')\n"
      ],
      "metadata": {
        "id": "3_LEk6NkylwZ"
      },
      "execution_count": 3,
      "outputs": []
    },
    {
      "cell_type": "code",
      "source": [
        "os.listdir(train_dir)"
      ],
      "metadata": {
        "colab": {
          "base_uri": "https://localhost:8080/"
        },
        "id": "Iham5mzt2tY8",
        "outputId": "d4af4a3c-e912-48da-f613-677cced9c346"
      },
      "execution_count": 4,
      "outputs": [
        {
          "output_type": "execute_result",
          "data": {
            "text/plain": [
              "['outwear',\n",
              " 'skirt',\n",
              " 'dress',\n",
              " 'shirt',\n",
              " 'hat',\n",
              " 't-shirt',\n",
              " 'pants',\n",
              " 'longsleeve',\n",
              " 'shoes',\n",
              " 'shorts']"
            ]
          },
          "metadata": {},
          "execution_count": 4
        }
      ]
    },
    {
      "cell_type": "code",
      "source": [
        "count = []\n",
        "idx = {}\n",
        "for i in os.listdir(train_dir):\n",
        "    p = len(os.listdir(os.path.join(train_dir,i)))\n",
        "    count.append(p)\n",
        "    idx[i] = p\n",
        "\n",
        "sum(idx.values())\n",
        "#len(os.listdir(os.path.join(validation_dir,'skirt')))\n"
      ],
      "metadata": {
        "colab": {
          "base_uri": "https://localhost:8080/"
        },
        "id": "7Jvn1WL00eK0",
        "outputId": "957d1337-57de-4201-f43a-fbd2e25ca1c0"
      },
      "execution_count": 5,
      "outputs": [
        {
          "output_type": "execute_result",
          "data": {
            "text/plain": [
              "3068"
            ]
          },
          "metadata": {},
          "execution_count": 5
        }
      ]
    },
    {
      "cell_type": "markdown",
      "source": [
        "# plotting some statistics about the data "
      ],
      "metadata": {
        "id": "BpXgqxEf4f1j"
      }
    },
    {
      "cell_type": "code",
      "source": [
        "names = list(idx.keys())\n",
        "values = list(idx.values())\n",
        "\n",
        "fig = plt.figure(figsize = (10, 5))\n",
        "\n",
        "plt.bar(range(len(idx)), values, tick_label=names)\n",
        "plt.show()"
      ],
      "metadata": {
        "colab": {
          "base_uri": "https://localhost:8080/",
          "height": 320
        },
        "id": "-hl2iAir4M6U",
        "outputId": "cd32cb7f-676c-447f-b2da-588167fd6e70"
      },
      "execution_count": 6,
      "outputs": [
        {
          "output_type": "display_data",
          "data": {
            "text/plain": [
              "<Figure size 720x360 with 1 Axes>"
            ],
            "image/png": "[encoded data removed]"
          },
          "metadata": {
            "needs_background": "light"
          }
        }
      ]
    },
    {
      "cell_type": "markdown",
      "source": [
        "there is a class imbalance problem in this data , so we try to to use some class imbalance techniques. according to our proplem which is Computer vision proplem so we might use Focal Loss . is short its gives more weight for low data and low weight for high class data "
      ],
      "metadata": {
        "id": "psbFUOEU5ZlT"
      }
    },
    {
      "cell_type": "markdown",
      "source": [
        "#  Let's instantiate the VGG16 model:\n",
        "\n"
      ],
      "metadata": {
        "id": "44Ov9c9-wqsC"
      }
    },
    {
      "cell_type": "code",
      "source": [
        "from tensorflow.keras.applications import VGG16\n",
        "\n",
        "conv_base = VGG16(weights='imagenet',\n",
        "                  include_top=False,\n",
        "                  input_shape=(150, 150, 3))"
      ],
      "metadata": {
        "colab": {
          "base_uri": "https://localhost:8080/"
        },
        "id": "_y7TWocEwl-J",
        "outputId": "823f6f08-0282-469e-9d79-30aae64044c1"
      },
      "execution_count": 7,
      "outputs": [
        {
          "output_type": "stream",
          "name": "stdout",
          "text": [
            "Downloading data from https://storage.googleapis.com/tensorflow/keras-applications/vgg16/vgg16_weights_tf_dim_ordering_tf_kernels_notop.h5\n",
            "58892288/58889256 [==============================] - 0s 0us/step\n",
            "58900480/58889256 [==============================] - 0s 0us/step\n"
          ]
        }
      ]
    },
    {
      "cell_type": "markdown",
      "source": [
        "Removing the Dense layers of the base network"
      ],
      "metadata": {
        "id": "4NrmITzFxuxz"
      }
    },
    {
      "cell_type": "code",
      "source": [
        "conv_base.summary()"
      ],
      "metadata": {
        "colab": {
          "base_uri": "https://localhost:8080/"
        },
        "id": "VM9G-OCUwwLJ",
        "outputId": "326fd6bb-dca0-46e7-f71a-450082a62405"
      },
      "execution_count": 8,
      "outputs": [
        {
          "output_type": "stream",
          "name": "stdout",
          "text": [
            "Model: \"vgg16\"\n",
            "_________________________________________________________________\n",
            " Layer (type)                Output Shape              Param #   \n",
            "=================================================================\n",
            " input_1 (InputLayer)        [(None, 150, 150, 3)]     0         \n",
            "                                                                 \n",
            " block1_conv1 (Conv2D)       (None, 150, 150, 64)      1792      \n",
            "                                                                 \n",
            " block1_conv2 (Conv2D)       (None, 150, 150, 64)      36928     \n",
            "                                                                 \n",
            " block1_pool (MaxPooling2D)  (None, 75, 75, 64)        0         \n",
            "                                                                 \n",
            " block2_conv1 (Conv2D)       (None, 75, 75, 128)       73856     \n",
            "                                                                 \n",
            " block2_conv2 (Conv2D)       (None, 75, 75, 128)       147584    \n",
            "                                                                 \n",
            " block2_pool (MaxPooling2D)  (None, 37, 37, 128)       0         \n",
            "                                                                 \n",
            " block3_conv1 (Conv2D)       (None, 37, 37, 256)       295168    \n",
            "                                                                 \n",
            " block3_conv2 (Conv2D)       (None, 37, 37, 256)       590080    \n",
            "                                                                 \n",
            " block3_conv3 (Conv2D)       (None, 37, 37, 256)       590080    \n",
            "                                                                 \n",
            " block3_pool (MaxPooling2D)  (None, 18, 18, 256)       0         \n",
            "                                                                 \n",
            " block4_conv1 (Conv2D)       (None, 18, 18, 512)       1180160   \n",
            "                                                                 \n",
            " block4_conv2 (Conv2D)       (None, 18, 18, 512)       2359808   \n",
            "                                                                 \n",
            " block4_conv3 (Conv2D)       (None, 18, 18, 512)       2359808   \n",
            "                                                                 \n",
            " block4_pool (MaxPooling2D)  (None, 9, 9, 512)         0         \n",
            "                                                                 \n",
            " block5_conv1 (Conv2D)       (None, 9, 9, 512)         2359808   \n",
            "                                                                 \n",
            " block5_conv2 (Conv2D)       (None, 9, 9, 512)         2359808   \n",
            "                                                                 \n",
            " block5_conv3 (Conv2D)       (None, 9, 9, 512)         2359808   \n",
            "                                                                 \n",
            " block5_pool (MaxPooling2D)  (None, 4, 4, 512)         0         \n",
            "                                                                 \n",
            "=================================================================\n",
            "Total params: 14,714,688\n",
            "Trainable params: 14,714,688\n",
            "Non-trainable params: 0\n",
            "_________________________________________________________________\n"
          ]
        }
      ]
    },
    {
      "cell_type": "markdown",
      "source": [
        "**there are two ways we could proceed:**"
      ],
      "metadata": {
        "id": "oJnErROByQ55"
      }
    },
    {
      "cell_type": "markdown",
      "source": [
        "\n",
        "\n",
        "*   Running the convolutional base over our dataset, recording its output to a Numpy array on disk, then using this data as input to a standalone densely-connected classifier similar to those you have seen in the first chapters of this book. This solution is very fast and cheap to run, because it only requires running the convolutional base once for every input image, and the convolutional base is by far the most expensive part of the pipeline. However, for the exact same reason, this technique would not allow us to leverage data augmentation at all.\n",
        "\n",
        "*   Extending the model we have (conv_base) by adding Dense layers on top, and running the whole thing end-to-end on the input data. This allows us to use data augmentation, because every input image is going through the convolutional base every time it is seen by the model. However, for this same reason, this technique is far more expensive than the first one.\n",
        "\n",
        "\n"
      ],
      "metadata": {
        "id": "40XQL4NUyFBx"
      }
    },
    {
      "cell_type": "code",
      "source": [
        "\n",
        "datagen = ImageDataGenerator(rescale=1./255)\n",
        "batch_size = 20\n",
        "\n",
        "def extract_features(directory, sample_count):\n",
        "    features = np.zeros(shape=(sample_count, 4, 4, 512))\n",
        "    labels = np.zeros(shape=(sample_count,10))\n",
        "    generator = datagen.flow_from_directory(\n",
        "        directory,\n",
        "        target_size=(150, 150),\n",
        "        batch_size=batch_size)\n",
        "    i = 0\n",
        "    for inputs_batch, labels_batch in generator:\n",
        "        features_batch = conv_base.predict(inputs_batch)\n",
        "        features[i * batch_size : (i + 1) * batch_size] = features_batch\n",
        "        labels[i * batch_size : (i + 1) * batch_size] = labels_batch\n",
        "        i += 1\n",
        "        if i * batch_size >= sample_count:\n",
        "            # Note that since generators yield data indefinitely in a loop,\n",
        "            # we must `break` after every image has been seen once.\n",
        "            break\n",
        "    return features, labels\n",
        "\n",
        "train_features, train_labels = extract_features(train_dir, 3068)\n",
        "validation_features, validation_labels = extract_features(validation_dir, 341)\n",
        "test_features, test_labels = extract_features(test_dir, 372)"
      ],
      "metadata": {
        "colab": {
          "base_uri": "https://localhost:8080/"
        },
        "id": "qc3dacRcwwNp",
        "outputId": "11bded24-c3be-4da1-8627-0960d93e3357"
      },
      "execution_count": 9,
      "outputs": [
        {
          "output_type": "stream",
          "name": "stdout",
          "text": [
            "Found 3068 images belonging to 10 classes.\n",
            "Found 341 images belonging to 10 classes.\n",
            "Found 372 images belonging to 10 classes.\n"
          ]
        }
      ]
    },
    {
      "cell_type": "markdown",
      "source": [
        "The extracted features are currently of shape (samples, 4, 4, 512). We will feed them to a densely-connected classifier, so first we must flatten them to (samples, 8192)"
      ],
      "metadata": {
        "id": "oIJegFjV-Erz"
      }
    },
    {
      "cell_type": "code",
      "source": [
        "train_features = np.reshape(train_features, (3068, 4 * 4 * 512))\n",
        "validation_features = np.reshape(validation_features, (341, 4 * 4 * 512))\n",
        "test_features = np.reshape(test_features, (372, 4 * 4 * 512))"
      ],
      "metadata": {
        "id": "tUtzzan-9-L9"
      },
      "execution_count": 10,
      "outputs": []
    },
    {
      "cell_type": "code",
      "source": [
        "import keras.backend as K\n",
        "import tensorflow as tf\n",
        "\n",
        "def categorical_focal_loss(gamma=2., alpha=.25):\n",
        "\n",
        "    def categorical_focal_loss_fixed(y_true, y_pred):\n",
        "        \"\"\"\n",
        "        :param y_true: A tensor of the same shape as `y_pred`\n",
        "        :param y_pred: A tensor resulting from a softmax\n",
        "        :return: Output tensor.\n",
        "        \"\"\"\n",
        "\n",
        "        # Scale predictions so that the class probas of each sample sum to 1\n",
        "        y_pred /= K.sum(y_pred, axis=-1, keepdims=True)\n",
        "\n",
        "        # Clip the prediction value to prevent NaN's and Inf's\n",
        "        epsilon = K.epsilon()\n",
        "        y_pred = K.clip(y_pred, epsilon, 1. - epsilon)\n",
        "\n",
        "        # Calculate Cross Entropy\n",
        "        cross_entropy = -y_true * K.log(y_pred)\n",
        "\n",
        "        # Calculate Focal Loss\n",
        "        loss = alpha * K.pow(1 - y_pred, gamma) * cross_entropy\n",
        "\n",
        "        # Sum the losses in mini_batch\n",
        "        return K.sum(loss, axis=1)\n",
        "\n",
        "    return categorical_focal_loss_fixed"
      ],
      "metadata": {
        "id": "olCtdeLpi5sC"
      },
      "execution_count": 11,
      "outputs": []
    },
    {
      "cell_type": "code",
      "source": [
        "from keras import models\n",
        "from keras import layers\n",
        "from keras import optimizers\n",
        "#try to use focal loss in the loss category \n",
        "\n",
        "model = models.Sequential()\n",
        "model.add(layers.Dense(256, activation='relu', input_dim=4 * 4 * 512))\n",
        "model.add(layers.Dropout(0.2))\n",
        "model.add(layers.Dense(10, activation='softmax'))\n",
        "\n",
        "model.compile(optimizer=keras.optimizers.RMSprop(lr=0.001),\n",
        "              loss=categorical_focal_loss(),\n",
        "              metrics=['acc'])\n",
        "\n",
        "history = model.fit(train_features, train_labels,\n",
        "                    epochs=50,\n",
        "                    batch_size=20,\n",
        "                    validation_data=(validation_features, validation_labels))"
      ],
      "metadata": {
        "colab": {
          "base_uri": "https://localhost:8080/"
        },
        "id": "vTvu4L6rwwQR",
        "outputId": "fa63e0e1-bb78-40b4-bf21-f47a7fc49d8f"
      },
      "execution_count": 78,
      "outputs": [
        {
          "output_type": "stream",
          "name": "stdout",
          "text": [
            "Epoch 1/50\n"
          ]
        },
        {
          "output_type": "stream",
          "name": "stderr",
          "text": [
            "/usr/local/lib/python3.7/dist-packages/keras/optimizer_v2/rmsprop.py:130: UserWarning: The `lr` argument is deprecated, use `learning_rate` instead.\n",
            "  super(RMSprop, self).__init__(name, **kwargs)\n"
          ]
        },
        {
          "output_type": "stream",
          "name": "stdout",
          "text": [
            "154/154 [==============================] - 1s 5ms/step - loss: 0.2520 - acc: 0.6190 - val_loss: 0.2260 - val_acc: 0.5865\n",
            "Epoch 2/50\n",
            "154/154 [==============================] - 1s 4ms/step - loss: 0.0963 - acc: 0.7673 - val_loss: 0.0915 - val_acc: 0.8094\n",
            "Epoch 3/50\n",
            "154/154 [==============================] - 1s 4ms/step - loss: 0.0655 - acc: 0.8198 - val_loss: 0.1181 - val_acc: 0.7595\n",
            "Epoch 4/50\n",
            "154/154 [==============================] - 1s 4ms/step - loss: 0.0453 - acc: 0.8683 - val_loss: 0.1259 - val_acc: 0.7537\n",
            "Epoch 5/50\n",
            "154/154 [==============================] - 1s 4ms/step - loss: 0.0366 - acc: 0.8833 - val_loss: 0.0853 - val_acc: 0.8299\n",
            "Epoch 6/50\n",
            "154/154 [==============================] - 1s 4ms/step - loss: 0.0323 - acc: 0.9045 - val_loss: 0.0972 - val_acc: 0.8270\n",
            "Epoch 7/50\n",
            "154/154 [==============================] - 1s 4ms/step - loss: 0.0228 - acc: 0.9241 - val_loss: 0.1068 - val_acc: 0.8358\n",
            "Epoch 8/50\n",
            "154/154 [==============================] - 1s 4ms/step - loss: 0.0200 - acc: 0.9306 - val_loss: 0.1089 - val_acc: 0.8270\n",
            "Epoch 9/50\n",
            "154/154 [==============================] - 1s 4ms/step - loss: 0.0161 - acc: 0.9420 - val_loss: 0.1163 - val_acc: 0.8240\n",
            "Epoch 10/50\n",
            "154/154 [==============================] - 1s 4ms/step - loss: 0.0145 - acc: 0.9501 - val_loss: 0.1136 - val_acc: 0.8563\n",
            "Epoch 11/50\n",
            "154/154 [==============================] - 1s 4ms/step - loss: 0.0129 - acc: 0.9625 - val_loss: 0.1170 - val_acc: 0.8475\n",
            "Epoch 12/50\n",
            "154/154 [==============================] - 1s 4ms/step - loss: 0.0096 - acc: 0.9645 - val_loss: 0.1572 - val_acc: 0.7801\n",
            "Epoch 13/50\n",
            "154/154 [==============================] - 1s 4ms/step - loss: 0.0088 - acc: 0.9674 - val_loss: 0.1456 - val_acc: 0.8328\n",
            "Epoch 14/50\n",
            "154/154 [==============================] - 1s 4ms/step - loss: 0.0116 - acc: 0.9668 - val_loss: 0.1351 - val_acc: 0.8416\n",
            "Epoch 15/50\n",
            "154/154 [==============================] - 1s 4ms/step - loss: 0.0097 - acc: 0.9681 - val_loss: 0.2082 - val_acc: 0.8123\n",
            "Epoch 16/50\n",
            "154/154 [==============================] - 1s 4ms/step - loss: 0.0109 - acc: 0.9681 - val_loss: 0.1751 - val_acc: 0.8446\n",
            "Epoch 17/50\n",
            "154/154 [==============================] - 1s 4ms/step - loss: 0.0090 - acc: 0.9749 - val_loss: 0.1211 - val_acc: 0.8563\n",
            "Epoch 18/50\n",
            "154/154 [==============================] - 1s 4ms/step - loss: 0.0080 - acc: 0.9726 - val_loss: 0.1715 - val_acc: 0.8504\n",
            "Epoch 19/50\n",
            "154/154 [==============================] - 1s 4ms/step - loss: 0.0075 - acc: 0.9726 - val_loss: 0.2104 - val_acc: 0.8123\n",
            "Epoch 20/50\n",
            "154/154 [==============================] - 1s 4ms/step - loss: 0.0080 - acc: 0.9791 - val_loss: 0.1637 - val_acc: 0.8534\n",
            "Epoch 21/50\n",
            "154/154 [==============================] - 1s 4ms/step - loss: 0.0069 - acc: 0.9801 - val_loss: 0.1712 - val_acc: 0.8328\n",
            "Epoch 22/50\n",
            "154/154 [==============================] - 1s 4ms/step - loss: 0.0066 - acc: 0.9785 - val_loss: 0.1782 - val_acc: 0.8416\n",
            "Epoch 23/50\n",
            "154/154 [==============================] - 1s 4ms/step - loss: 0.0057 - acc: 0.9795 - val_loss: 0.1528 - val_acc: 0.8592\n",
            "Epoch 24/50\n",
            "154/154 [==============================] - 1s 4ms/step - loss: 0.0052 - acc: 0.9844 - val_loss: 0.1721 - val_acc: 0.8446\n",
            "Epoch 25/50\n",
            "154/154 [==============================] - 1s 4ms/step - loss: 0.0065 - acc: 0.9778 - val_loss: 0.1791 - val_acc: 0.8534\n",
            "Epoch 26/50\n",
            "154/154 [==============================] - 1s 4ms/step - loss: 0.0063 - acc: 0.9847 - val_loss: 0.2984 - val_acc: 0.7537\n",
            "Epoch 27/50\n",
            "154/154 [==============================] - 1s 4ms/step - loss: 0.0071 - acc: 0.9834 - val_loss: 0.1728 - val_acc: 0.8622\n",
            "Epoch 28/50\n",
            "154/154 [==============================] - 1s 4ms/step - loss: 0.0050 - acc: 0.9863 - val_loss: 0.1955 - val_acc: 0.8358\n",
            "Epoch 29/50\n",
            "154/154 [==============================] - 1s 4ms/step - loss: 0.0046 - acc: 0.9850 - val_loss: 0.2228 - val_acc: 0.8416\n",
            "Epoch 30/50\n",
            "154/154 [==============================] - 1s 4ms/step - loss: 0.0056 - acc: 0.9837 - val_loss: 0.1913 - val_acc: 0.8592\n",
            "Epoch 31/50\n",
            "154/154 [==============================] - 1s 4ms/step - loss: 0.0049 - acc: 0.9866 - val_loss: 0.1856 - val_acc: 0.8446\n",
            "Epoch 32/50\n",
            "154/154 [==============================] - 1s 4ms/step - loss: 0.0087 - acc: 0.9801 - val_loss: 0.2182 - val_acc: 0.8240\n",
            "Epoch 33/50\n",
            "154/154 [==============================] - 1s 4ms/step - loss: 0.0062 - acc: 0.9873 - val_loss: 0.2165 - val_acc: 0.8358\n",
            "Epoch 34/50\n",
            "154/154 [==============================] - 1s 4ms/step - loss: 0.0050 - acc: 0.9873 - val_loss: 0.2950 - val_acc: 0.8152\n",
            "Epoch 35/50\n",
            "154/154 [==============================] - 1s 4ms/step - loss: 0.0052 - acc: 0.9879 - val_loss: 0.2419 - val_acc: 0.8240\n",
            "Epoch 36/50\n",
            "154/154 [==============================] - 1s 4ms/step - loss: 0.0042 - acc: 0.9863 - val_loss: 0.2786 - val_acc: 0.8035\n",
            "Epoch 37/50\n",
            "154/154 [==============================] - 1s 4ms/step - loss: 0.0060 - acc: 0.9847 - val_loss: 0.2346 - val_acc: 0.8240\n",
            "Epoch 38/50\n",
            "154/154 [==============================] - 1s 4ms/step - loss: 0.0064 - acc: 0.9847 - val_loss: 0.2041 - val_acc: 0.8504\n",
            "Epoch 39/50\n",
            "154/154 [==============================] - 1s 4ms/step - loss: 0.0077 - acc: 0.9834 - val_loss: 0.2486 - val_acc: 0.8416\n",
            "Epoch 40/50\n",
            "154/154 [==============================] - 1s 4ms/step - loss: 0.0053 - acc: 0.9876 - val_loss: 0.2167 - val_acc: 0.8475\n",
            "Epoch 41/50\n",
            "154/154 [==============================] - 1s 4ms/step - loss: 0.0039 - acc: 0.9883 - val_loss: 0.2863 - val_acc: 0.8299\n",
            "Epoch 42/50\n",
            "154/154 [==============================] - 1s 4ms/step - loss: 0.0041 - acc: 0.9870 - val_loss: 0.2646 - val_acc: 0.8416\n",
            "Epoch 43/50\n",
            "154/154 [==============================] - 1s 4ms/step - loss: 0.0054 - acc: 0.9889 - val_loss: 0.2839 - val_acc: 0.8211\n",
            "Epoch 44/50\n",
            "154/154 [==============================] - 1s 4ms/step - loss: 0.0070 - acc: 0.9831 - val_loss: 0.2422 - val_acc: 0.8358\n",
            "Epoch 45/50\n",
            "154/154 [==============================] - 1s 4ms/step - loss: 0.0061 - acc: 0.9860 - val_loss: 0.2133 - val_acc: 0.8475\n",
            "Epoch 46/50\n",
            "154/154 [==============================] - 1s 4ms/step - loss: 0.0051 - acc: 0.9870 - val_loss: 0.2057 - val_acc: 0.8534\n",
            "Epoch 47/50\n",
            "154/154 [==============================] - 1s 4ms/step - loss: 0.0034 - acc: 0.9902 - val_loss: 0.2598 - val_acc: 0.8328\n",
            "Epoch 48/50\n",
            "154/154 [==============================] - 1s 4ms/step - loss: 0.0044 - acc: 0.9899 - val_loss: 0.2799 - val_acc: 0.8299\n",
            "Epoch 49/50\n",
            "154/154 [==============================] - 1s 4ms/step - loss: 0.0043 - acc: 0.9902 - val_loss: 0.2415 - val_acc: 0.8504\n",
            "Epoch 50/50\n",
            "154/154 [==============================] - 1s 4ms/step - loss: 0.0051 - acc: 0.9873 - val_loss: 0.2913 - val_acc: 0.8416\n"
          ]
        }
      ]
    },
    {
      "cell_type": "markdown",
      "source": [
        "# using keras to Visualize the model or matplotlib "
      ],
      "metadata": {
        "id": "U_P3WH0y4sZM"
      }
    },
    {
      "cell_type": "code",
      "source": [
        "!pip install plot_keras_history\n"
      ],
      "metadata": {
        "id": "vRuEpCmt1tXE"
      },
      "execution_count": null,
      "outputs": []
    },
    {
      "cell_type": "code",
      "source": [
        "from plot_keras_history import plot_history\n",
        "\n",
        "plot_history(history,single_graphs=True)\n"
      ],
      "metadata": {
        "colab": {
          "base_uri": "https://localhost:8080/",
          "height": 808
        },
        "id": "ODfyT5bj1xUk",
        "outputId": "e5381110-54e0-4d88-faad-398fba475e25"
      },
      "execution_count": 15,
      "outputs": [
        {
          "output_type": "execute_result",
          "data": {
            "text/plain": [
              "[(<Figure size 360x360 with 1 Axes>, <Figure size 360x360 with 1 Axes>),\n",
              " (<matplotlib.axes._subplots.AxesSubplot at 0x7fc4cc292c90>,\n",
              "  <matplotlib.axes._subplots.AxesSubplot at 0x7fc4b68a3750>)]"
            ]
          },
          "metadata": {},
          "execution_count": 15
        },
        {
          "output_type": "display_data",
          "data": {
            "text/plain": [
              "<Figure size 360x360 with 1 Axes>"
            ],
            "image/png": "[encoded data removed]"
          },
          "metadata": {
            "needs_background": "light"
          }
        },
        {
          "output_type": "display_data",
          "data": {
            "text/plain": [
              "<Figure size 360x360 with 1 Axes>"
            ],
            "image/png": "[encoded data removed]"
          },
          "metadata": {
            "needs_background": "light"
          }
        }
      ]
    },
    {
      "cell_type": "code",
      "source": [
        "import matplotlib.pyplot as plt\n",
        "def visualize(history):\n",
        "\n",
        "  acc = history.history['acc']\n",
        "  val_acc = history.history['val_acc']\n",
        "  loss = history.history['loss']\n",
        "  val_loss = history.history['val_loss']\n",
        "\n",
        "  epochs = range(len(acc))\n",
        "\n",
        "  plt.plot(epochs, acc, 'bo', label='Training acc')\n",
        "  plt.plot(epochs, val_acc, 'b', label='Validation acc')\n",
        "  plt.title('Training and validation accuracy')\n",
        "  plt.legend()\n",
        "\n",
        "  plt.figure()\n",
        "  \n",
        "  plt.plot(epochs, loss, 'bo', label='Training loss')\n",
        "  plt.plot(epochs, val_loss, 'b', label='Validation loss')\n",
        "  plt.title('Training and validation loss')\n",
        "  plt.legend()\n",
        "  \n",
        "  plt.show()"
      ],
      "metadata": {
        "id": "eAeA96Ip-V0F"
      },
      "execution_count": 16,
      "outputs": []
    },
    {
      "cell_type": "markdown",
      "source": [
        "# Visualizing the previous model using matplotlib\n"
      ],
      "metadata": {
        "id": "mSHUU9sS4lf1"
      }
    },
    {
      "cell_type": "code",
      "source": [
        "visualize(history)"
      ],
      "metadata": {
        "colab": {
          "base_uri": "https://localhost:8080/",
          "height": 544
        },
        "id": "CLihwswB4cFN",
        "outputId": "8421f91c-82ab-4c36-9217-991c7a861536"
      },
      "execution_count": 17,
      "outputs": [
        {
          "output_type": "display_data",
          "data": {
            "text/plain": [
              "<Figure size 432x288 with 1 Axes>"
            ],
            "image/png": "[encoded data removed]"
          },
          "metadata": {
            "needs_background": "light"
          }
        },
        {
          "output_type": "display_data",
          "data": {
            "text/plain": [
              "<Figure size 432x288 with 1 Axes>"
            ],
            "image/png": "[encoded data removed]"
          },
          "metadata": {
            "needs_background": "light"
          }
        }
      ]
    },
    {
      "cell_type": "markdown",
      "source": [
        "so the model is overfitting starts from ep[och 20, so we can try to increase regulization , dropout and try to use some Data Augmentation Technique"
      ],
      "metadata": {
        "id": "G2_SYxKt6n7p"
      }
    },
    {
      "cell_type": "code",
      "source": [
        "from tensorflow.keras import models\n",
        "from tensorflow.keras import layers\n",
        "\n",
        "model = models.Sequential()\n",
        "model.add(conv_base)\n",
        "model.add(layers.Flatten())\n",
        "model.add(layers.Dense(256, activation='relu'))\n",
        "model.add(layers.Dense(10, activation='softmax'))\n",
        "\n"
      ],
      "metadata": {
        "id": "WO-n7_iv-vBs"
      },
      "execution_count": 18,
      "outputs": []
    },
    {
      "cell_type": "code",
      "source": [
        "model.summary()"
      ],
      "metadata": {
        "colab": {
          "base_uri": "https://localhost:8080/"
        },
        "id": "V85Glj_U-vD9",
        "outputId": "b6a69116-d35a-4e5d-c8fb-82eb13c59121"
      },
      "execution_count": 20,
      "outputs": [
        {
          "output_type": "stream",
          "name": "stdout",
          "text": [
            "Model: \"sequential_1\"\n",
            "_________________________________________________________________\n",
            " Layer (type)                Output Shape              Param #   \n",
            "=================================================================\n",
            " vgg16 (Functional)          (None, 4, 4, 512)         14714688  \n",
            "                                                                 \n",
            " flatten (Flatten)           (None, 8192)              0         \n",
            "                                                                 \n",
            " dense_2 (Dense)             (None, 256)               2097408   \n",
            "                                                                 \n",
            " dense_3 (Dense)             (None, 10)                2570      \n",
            "                                                                 \n",
            "=================================================================\n",
            "Total params: 16,814,666\n",
            "Trainable params: 16,814,666\n",
            "Non-trainable params: 0\n",
            "_________________________________________________________________\n"
          ]
        }
      ]
    },
    {
      "cell_type": "markdown",
      "source": [
        "**thera are 16 M parameter in this model can be trained**"
      ],
      "metadata": {
        "id": "YbvSgaK05Az_"
      }
    },
    {
      "cell_type": "code",
      "source": [
        "print('This is the number of trainable weights '\n",
        "      'before freezing the conv base:', len(model.trainable_weights))\n",
        "\n"
      ],
      "metadata": {
        "colab": {
          "base_uri": "https://localhost:8080/"
        },
        "id": "fGUcYCbU-vGj",
        "outputId": "2895b7a2-2513-4376-b9ea-836607b2ac01"
      },
      "execution_count": 21,
      "outputs": [
        {
          "output_type": "stream",
          "name": "stdout",
          "text": [
            "This is the number of trainable weights before freezing the conv base: 30\n"
          ]
        }
      ]
    },
    {
      "cell_type": "code",
      "source": [
        "conv_base.trainable = False\n",
        "print('This is the number of trainable weights '\n",
        "      'after freezing the conv base:', len(model.trainable_weights))"
      ],
      "metadata": {
        "colab": {
          "base_uri": "https://localhost:8080/"
        },
        "id": "1A_yKkbZ-73G",
        "outputId": "b8753eea-ea55-409d-a524-82bcb25235a0"
      },
      "execution_count": 22,
      "outputs": [
        {
          "output_type": "stream",
          "name": "stdout",
          "text": [
            "This is the number of trainable weights after freezing the conv base: 4\n"
          ]
        }
      ]
    },
    {
      "cell_type": "markdown",
      "source": [
        "# Data Augmentation"
      ],
      "metadata": {
        "id": "McnHp-eJ_CQv"
      }
    },
    {
      "cell_type": "code",
      "source": [
        "\n",
        "import math\n",
        "BATCH_SIZE =32\n",
        "\n",
        "TRAINING_SIZE = 3068\n",
        "\n",
        "VALIDATION_SIZE = 341\n",
        "\n",
        "compute_steps_per_epoch = lambda x: int(math.ceil(1. * x / BATCH_SIZE))\n",
        "\n",
        "steps_per_epoch = compute_steps_per_epoch(TRAINING_SIZE)\n",
        "val_steps = compute_steps_per_epoch(VALIDATION_SIZE)\n"
      ],
      "metadata": {
        "id": "HxrrXSRWBNlu"
      },
      "execution_count": 23,
      "outputs": []
    },
    {
      "cell_type": "code",
      "source": [
        "from tensorflow.keras.preprocessing.image import ImageDataGenerator\n",
        " \n",
        "train_datagen = ImageDataGenerator(\n",
        "      rescale=1./255,\n",
        "      rotation_range=40,\n",
        "      width_shift_range=0.2,\n",
        "      height_shift_range=0.2,\n",
        "      shear_range=0.2,\n",
        "      zoom_range=0.2,\n",
        "      horizontal_flip=True)\n",
        "\n",
        "# Note that the validation data should not be augmented!\n",
        "test_datagen = ImageDataGenerator(rescale=1./255)\n",
        "\n",
        "train_generator = train_datagen.flow_from_directory(\n",
        "        # This is the target directory\n",
        "        train_dir,\n",
        "        # All images will be resized to 150x150\n",
        "        target_size=(150, 150),\n",
        "        batch_size=20)\n",
        "\n",
        "validation_generator = test_datagen.flow_from_directory(\n",
        "        validation_dir,\n",
        "        target_size=(150, 150),\n",
        "        batch_size=20)\n",
        "\n",
        "model.compile(loss=categorical_focal_loss(),\n",
        "              optimizer=keras.optimizers.RMSprop(learning_rate=0.001),\n",
        "              metrics=['acc'])\n",
        "\n",
        "history = model.fit_generator(\n",
        "      train_generator,\n",
        "      steps_per_epoch=steps_per_epoch,\n",
        "      epochs=40,\n",
        "      validation_data=validation_generator,\n",
        "      validation_steps=val_steps)"
      ],
      "metadata": {
        "colab": {
          "base_uri": "https://localhost:8080/"
        },
        "id": "vJGoqvuZ_Btl",
        "outputId": "e5a8f1d5-096a-4296-c525-fb214add0998"
      },
      "execution_count": 24,
      "outputs": [
        {
          "output_type": "stream",
          "name": "stdout",
          "text": [
            "Found 3068 images belonging to 10 classes.\n",
            "Found 341 images belonging to 10 classes.\n"
          ]
        },
        {
          "output_type": "stream",
          "name": "stderr",
          "text": [
            "/usr/local/lib/python3.7/dist-packages/ipykernel_launcher.py:36: UserWarning: `Model.fit_generator` is deprecated and will be removed in a future version. Please use `Model.fit`, which supports generators.\n"
          ]
        },
        {
          "output_type": "stream",
          "name": "stdout",
          "text": [
            "Epoch 1/40\n",
            "96/96 [==============================] - 18s 182ms/step - loss: 0.4296 - acc: 0.4156 - val_loss: 0.1664 - val_acc: 0.6682\n",
            "Epoch 2/40\n",
            "96/96 [==============================] - 17s 180ms/step - loss: 0.2221 - acc: 0.5562 - val_loss: 0.1435 - val_acc: 0.6636\n",
            "Epoch 3/40\n",
            "96/96 [==============================] - 17s 180ms/step - loss: 0.1872 - acc: 0.6016 - val_loss: 0.1510 - val_acc: 0.6773\n",
            "Epoch 4/40\n",
            "96/96 [==============================] - 17s 179ms/step - loss: 0.1673 - acc: 0.6310 - val_loss: 0.0987 - val_acc: 0.7773\n",
            "Epoch 5/40\n",
            "96/96 [==============================] - 17s 180ms/step - loss: 0.1529 - acc: 0.6604 - val_loss: 0.1288 - val_acc: 0.7409\n",
            "Epoch 6/40\n",
            "96/96 [==============================] - 20s 209ms/step - loss: 0.1488 - acc: 0.6687 - val_loss: 0.1054 - val_acc: 0.7500\n",
            "Epoch 7/40\n",
            "96/96 [==============================] - 20s 212ms/step - loss: 0.1443 - acc: 0.6526 - val_loss: 0.1028 - val_acc: 0.8045\n",
            "Epoch 8/40\n",
            "96/96 [==============================] - 18s 182ms/step - loss: 0.1368 - acc: 0.6992 - val_loss: 0.0974 - val_acc: 0.7682\n",
            "Epoch 9/40\n",
            "96/96 [==============================] - 18s 187ms/step - loss: 0.1323 - acc: 0.7007 - val_loss: 0.0897 - val_acc: 0.8273\n",
            "Epoch 10/40\n",
            "96/96 [==============================] - 18s 191ms/step - loss: 0.1205 - acc: 0.7186 - val_loss: 0.1102 - val_acc: 0.7682\n",
            "Epoch 11/40\n",
            "96/96 [==============================] - 17s 181ms/step - loss: 0.1250 - acc: 0.7128 - val_loss: 0.1305 - val_acc: 0.7364\n",
            "Epoch 12/40\n",
            "96/96 [==============================] - 18s 183ms/step - loss: 0.1155 - acc: 0.7358 - val_loss: 0.1162 - val_acc: 0.7455\n",
            "Epoch 13/40\n",
            "96/96 [==============================] - 17s 180ms/step - loss: 0.1189 - acc: 0.7212 - val_loss: 0.0931 - val_acc: 0.7773\n",
            "Epoch 14/40\n",
            "96/96 [==============================] - 18s 187ms/step - loss: 0.1072 - acc: 0.7542 - val_loss: 0.0848 - val_acc: 0.8318\n",
            "Epoch 15/40\n",
            "96/96 [==============================] - 20s 207ms/step - loss: 0.1033 - acc: 0.7432 - val_loss: 0.0934 - val_acc: 0.8045\n",
            "Epoch 16/40\n",
            "96/96 [==============================] - 18s 191ms/step - loss: 0.1053 - acc: 0.7495 - val_loss: 0.0787 - val_acc: 0.8227\n",
            "Epoch 17/40\n",
            "96/96 [==============================] - 17s 182ms/step - loss: 0.1013 - acc: 0.7589 - val_loss: 0.0812 - val_acc: 0.8045\n",
            "Epoch 18/40\n",
            "96/96 [==============================] - 18s 182ms/step - loss: 0.1014 - acc: 0.7411 - val_loss: 0.0816 - val_acc: 0.8273\n",
            "Epoch 19/40\n",
            "96/96 [==============================] - 18s 182ms/step - loss: 0.1027 - acc: 0.7589 - val_loss: 0.1259 - val_acc: 0.7409\n",
            "Epoch 20/40\n",
            "96/96 [==============================] - 17s 180ms/step - loss: 0.1038 - acc: 0.7385 - val_loss: 0.0929 - val_acc: 0.8136\n",
            "Epoch 21/40\n",
            "96/96 [==============================] - 17s 181ms/step - loss: 0.0989 - acc: 0.7615 - val_loss: 0.1147 - val_acc: 0.7818\n",
            "Epoch 22/40\n",
            "96/96 [==============================] - 17s 182ms/step - loss: 0.0988 - acc: 0.7568 - val_loss: 0.0965 - val_acc: 0.8000\n",
            "Epoch 23/40\n",
            "96/96 [==============================] - 17s 180ms/step - loss: 0.0997 - acc: 0.7573 - val_loss: 0.1139 - val_acc: 0.8045\n",
            "Epoch 24/40\n",
            "96/96 [==============================] - 17s 181ms/step - loss: 0.0898 - acc: 0.7922 - val_loss: 0.1125 - val_acc: 0.7636\n",
            "Epoch 25/40\n",
            "96/96 [==============================] - 17s 179ms/step - loss: 0.0888 - acc: 0.7835 - val_loss: 0.0828 - val_acc: 0.7909\n",
            "Epoch 26/40\n",
            "96/96 [==============================] - 17s 181ms/step - loss: 0.0935 - acc: 0.7762 - val_loss: 0.1018 - val_acc: 0.8136\n",
            "Epoch 27/40\n",
            "96/96 [==============================] - 17s 181ms/step - loss: 0.0920 - acc: 0.7757 - val_loss: 0.1208 - val_acc: 0.7545\n",
            "Epoch 28/40\n",
            "96/96 [==============================] - 17s 180ms/step - loss: 0.0920 - acc: 0.7783 - val_loss: 0.1176 - val_acc: 0.7682\n",
            "Epoch 29/40\n",
            "96/96 [==============================] - 17s 179ms/step - loss: 0.0904 - acc: 0.7804 - val_loss: 0.0996 - val_acc: 0.8045\n",
            "Epoch 30/40\n",
            "96/96 [==============================] - 17s 181ms/step - loss: 0.0827 - acc: 0.7948 - val_loss: 0.1206 - val_acc: 0.7864\n",
            "Epoch 31/40\n",
            "96/96 [==============================] - 17s 181ms/step - loss: 0.0830 - acc: 0.7846 - val_loss: 0.1396 - val_acc: 0.7955\n",
            "Epoch 32/40\n",
            "96/96 [==============================] - 18s 182ms/step - loss: 0.0934 - acc: 0.7875 - val_loss: 0.1015 - val_acc: 0.8000\n",
            "Epoch 33/40\n",
            "96/96 [==============================] - 17s 180ms/step - loss: 0.0862 - acc: 0.7809 - val_loss: 0.1224 - val_acc: 0.7818\n",
            "Epoch 34/40\n",
            "96/96 [==============================] - 17s 179ms/step - loss: 0.0870 - acc: 0.7740 - val_loss: 0.0967 - val_acc: 0.8182\n",
            "Epoch 35/40\n",
            "96/96 [==============================] - 18s 183ms/step - loss: 0.0840 - acc: 0.7870 - val_loss: 0.1075 - val_acc: 0.7773\n",
            "Epoch 36/40\n",
            "96/96 [==============================] - 17s 180ms/step - loss: 0.0818 - acc: 0.7828 - val_loss: 0.1014 - val_acc: 0.7955\n",
            "Epoch 37/40\n",
            "96/96 [==============================] - 17s 180ms/step - loss: 0.0865 - acc: 0.7917 - val_loss: 0.1110 - val_acc: 0.8045\n",
            "Epoch 38/40\n",
            "96/96 [==============================] - 18s 182ms/step - loss: 0.0770 - acc: 0.8047 - val_loss: 0.1413 - val_acc: 0.7727\n",
            "Epoch 39/40\n",
            "96/96 [==============================] - 17s 181ms/step - loss: 0.0823 - acc: 0.7990 - val_loss: 0.1254 - val_acc: 0.7909\n",
            "Epoch 40/40\n",
            "96/96 [==============================] - 17s 179ms/step - loss: 0.0858 - acc: 0.7888 - val_loss: 0.1309 - val_acc: 0.7909\n"
          ]
        }
      ]
    },
    {
      "cell_type": "markdown",
      "source": [
        "# Fine tuning some layers\n",
        "Try to use some of the early layers so the model can learn some new features realted to our field , so we try to un freezing some of tbe early layers"
      ],
      "metadata": {
        "id": "aePInjBkMY84"
      }
    },
    {
      "cell_type": "code",
      "source": [
        "conv_base.trainable = True\n",
        "\n",
        "set_trainable = False\n",
        "for layer in conv_base.layers:\n",
        "    if layer.name == 'block5_conv1':\n",
        "        set_trainable = True\n",
        "    if set_trainable:\n",
        "        layer.trainable = True\n",
        "    else:\n",
        "        layer.trainable = False"
      ],
      "metadata": {
        "id": "ZGKeMEJ2Cwwd"
      },
      "execution_count": 25,
      "outputs": []
    },
    {
      "cell_type": "code",
      "source": [
        "callbacks = [keras.callbacks.EarlyStopping(monitor='val_loss',patience=10),\n",
        "             keras.callbacks.ReduceLROnPlateau(monitor='val_loss', factor=0.25,patience=3,verbose=1),\n",
        "             keras.callbacks.ModelCheckpoint(\n",
        "        \"VGG_.h5\",\n",
        "        monitor=\"val_accuracy\",\n",
        "        save_best_only=True,\n",
        "        mode='max'\n",
        "    )]\n",
        "\n",
        "model.compile(loss=keras.losses.CategoricalCrossentropy(from_logits=True),\n",
        "              optimizer=keras.optimizers.RMSprop(0.001),\n",
        "              metrics=['acc'])\n",
        "history = model.fit_generator(\n",
        "      train_generator,\n",
        "      steps_per_epoch=steps_per_epoch,\n",
        "      epochs=15,\n",
        "      validation_data=validation_generator,\n",
        "      validation_steps=val_steps,\n",
        "      callbacks=callbacks)"
      ],
      "metadata": {
        "colab": {
          "base_uri": "https://localhost:8080/"
        },
        "id": "4s5dMOEyC0DW",
        "outputId": "4dd0de31-1114-4506-ec89-5369725ef60e"
      },
      "execution_count": 28,
      "outputs": [
        {
          "output_type": "stream",
          "name": "stdout",
          "text": [
            "Epoch 1/15\n"
          ]
        },
        {
          "output_type": "stream",
          "name": "stderr",
          "text": [
            "/usr/local/lib/python3.7/dist-packages/ipykernel_launcher.py:19: UserWarning: `Model.fit_generator` is deprecated and will be removed in a future version. Please use `Model.fit`, which supports generators.\n",
            "/usr/local/lib/python3.7/dist-packages/tensorflow/python/util/dispatch.py:1082: UserWarning: \"`categorical_crossentropy` received `from_logits=True`, but the `output` argument was produced by a sigmoid or softmax activation and thus does not represent logits. Was this intended?\"\n",
            "  return dispatch_target(*args, **kwargs)\n"
          ]
        },
        {
          "output_type": "stream",
          "name": "stdout",
          "text": [
            "96/96 [==============================] - ETA: 0s - loss: 1.0160 - acc: 0.7217WARNING:tensorflow:Can save best model only with val_accuracy available, skipping.\n",
            "96/96 [==============================] - 19s 187ms/step - loss: 1.0160 - acc: 0.7217 - val_loss: 0.8465 - val_acc: 0.8318 - lr: 0.0010\n",
            "Epoch 2/15\n",
            "96/96 [==============================] - ETA: 0s - loss: 0.8845 - acc: 0.7280WARNING:tensorflow:Can save best model only with val_accuracy available, skipping.\n",
            "96/96 [==============================] - 18s 188ms/step - loss: 0.8845 - acc: 0.7280 - val_loss: 0.8294 - val_acc: 0.7682 - lr: 0.0010\n",
            "Epoch 3/15\n",
            "96/96 [==============================] - ETA: 0s - loss: 0.8223 - acc: 0.7516WARNING:tensorflow:Can save best model only with val_accuracy available, skipping.\n",
            "96/96 [==============================] - 18s 187ms/step - loss: 0.8223 - acc: 0.7516 - val_loss: 1.2521 - val_acc: 0.6909 - lr: 0.0010\n",
            "Epoch 4/15\n",
            "96/96 [==============================] - ETA: 0s - loss: 0.8597 - acc: 0.7589WARNING:tensorflow:Can save best model only with val_accuracy available, skipping.\n",
            "96/96 [==============================] - 18s 185ms/step - loss: 0.8597 - acc: 0.7589 - val_loss: 1.9478 - val_acc: 0.7000 - lr: 0.0010\n",
            "Epoch 5/15\n",
            "96/96 [==============================] - ETA: 0s - loss: 0.8397 - acc: 0.7557WARNING:tensorflow:Can save best model only with val_accuracy available, skipping.\n",
            "96/96 [==============================] - 18s 189ms/step - loss: 0.8397 - acc: 0.7557 - val_loss: 0.7380 - val_acc: 0.7818 - lr: 0.0010\n",
            "Epoch 6/15\n",
            "96/96 [==============================] - ETA: 0s - loss: 0.7998 - acc: 0.7505WARNING:tensorflow:Can save best model only with val_accuracy available, skipping.\n",
            "96/96 [==============================] - 18s 192ms/step - loss: 0.7998 - acc: 0.7505 - val_loss: 0.6104 - val_acc: 0.8136 - lr: 0.0010\n",
            "Epoch 7/15\n",
            "96/96 [==============================] - ETA: 0s - loss: 0.8022 - acc: 0.7647WARNING:tensorflow:Can save best model only with val_accuracy available, skipping.\n",
            "96/96 [==============================] - 18s 186ms/step - loss: 0.8022 - acc: 0.7647 - val_loss: 1.3034 - val_acc: 0.7455 - lr: 0.0010\n",
            "Epoch 8/15\n",
            "96/96 [==============================] - ETA: 0s - loss: 0.7536 - acc: 0.7809WARNING:tensorflow:Can save best model only with val_accuracy available, skipping.\n",
            "96/96 [==============================] - 18s 190ms/step - loss: 0.7536 - acc: 0.7809 - val_loss: 1.1231 - val_acc: 0.7455 - lr: 0.0010\n",
            "Epoch 9/15\n",
            "96/96 [==============================] - ETA: 0s - loss: 0.8111 - acc: 0.7600\n",
            "Epoch 9: ReduceLROnPlateau reducing learning rate to 0.0002500000118743628.\n",
            "WARNING:tensorflow:Can save best model only with val_accuracy available, skipping.\n",
            "96/96 [==============================] - 18s 184ms/step - loss: 0.8111 - acc: 0.7600 - val_loss: 0.7688 - val_acc: 0.7955 - lr: 0.0010\n",
            "Epoch 10/15\n",
            "96/96 [==============================] - ETA: 0s - loss: 0.5527 - acc: 0.8365WARNING:tensorflow:Can save best model only with val_accuracy available, skipping.\n",
            "96/96 [==============================] - 18s 184ms/step - loss: 0.5527 - acc: 0.8365 - val_loss: 0.5560 - val_acc: 0.8409 - lr: 2.5000e-04\n",
            "Epoch 11/15\n",
            "96/96 [==============================] - ETA: 0s - loss: 0.5147 - acc: 0.8433WARNING:tensorflow:Can save best model only with val_accuracy available, skipping.\n",
            "96/96 [==============================] - 18s 183ms/step - loss: 0.5147 - acc: 0.8433 - val_loss: 0.8162 - val_acc: 0.8455 - lr: 2.5000e-04\n",
            "Epoch 12/15\n",
            "96/96 [==============================] - ETA: 0s - loss: 0.4962 - acc: 0.8360WARNING:tensorflow:Can save best model only with val_accuracy available, skipping.\n",
            "96/96 [==============================] - 18s 184ms/step - loss: 0.4962 - acc: 0.8360 - val_loss: 0.8443 - val_acc: 0.8000 - lr: 2.5000e-04\n",
            "Epoch 13/15\n",
            "96/96 [==============================] - ETA: 0s - loss: 0.4330 - acc: 0.8532\n",
            "Epoch 13: ReduceLROnPlateau reducing learning rate to 6.25000029685907e-05.\n",
            "WARNING:tensorflow:Can save best model only with val_accuracy available, skipping.\n",
            "96/96 [==============================] - 18s 191ms/step - loss: 0.4330 - acc: 0.8532 - val_loss: 0.7629 - val_acc: 0.8136 - lr: 2.5000e-04\n",
            "Epoch 14/15\n",
            "96/96 [==============================] - ETA: 0s - loss: 0.4441 - acc: 0.8651WARNING:tensorflow:Can save best model only with val_accuracy available, skipping.\n",
            "96/96 [==============================] - 18s 184ms/step - loss: 0.4441 - acc: 0.8651 - val_loss: 0.6425 - val_acc: 0.8318 - lr: 6.2500e-05\n",
            "Epoch 15/15\n",
            "96/96 [==============================] - ETA: 0s - loss: 0.3818 - acc: 0.8643WARNING:tensorflow:Can save best model only with val_accuracy available, skipping.\n",
            "96/96 [==============================] - 18s 184ms/step - loss: 0.3818 - acc: 0.8643 - val_loss: 0.6493 - val_acc: 0.8455 - lr: 6.2500e-05\n"
          ]
        }
      ]
    },
    {
      "cell_type": "code",
      "source": [
        "model.save('M2_vgg.h5')"
      ],
      "metadata": {
        "id": "GIzrPiCtC7Qw"
      },
      "execution_count": 29,
      "outputs": []
    },
    {
      "cell_type": "code",
      "source": [
        "#visualize the model\n",
        "visualize(history)"
      ],
      "metadata": {
        "colab": {
          "base_uri": "https://localhost:8080/",
          "height": 544
        },
        "id": "0Og8k_skC7Vf",
        "outputId": "1b8f8136-0215-497b-fb01-4e479010bd00"
      },
      "execution_count": 30,
      "outputs": [
        {
          "output_type": "display_data",
          "data": {
            "text/plain": [
              "<Figure size 432x288 with 1 Axes>"
            ],
            "image/png": "[encoded data removed]"
          },
          "metadata": {
            "needs_background": "light"
          }
        },
        {
          "output_type": "display_data",
          "data": {
            "text/plain": [
              "<Figure size 432x288 with 1 Axes>"
            ],
            "image/png": "[encoded data removed]"
          },
          "metadata": {
            "needs_background": "light"
          }
        }
      ]
    },
    {
      "cell_type": "markdown",
      "source": [
        "# Try using another model(Xception)"
      ],
      "metadata": {
        "id": "KFEY6bbZOvUB"
      }
    },
    {
      "cell_type": "code",
      "source": [
        "from tensorflow.keras.applications.xception import Xception\n",
        "from tensorflow.keras.applications.xception import preprocess_input\n",
        "from tensorflow.keras.applications.xception import decode_predictions\n",
        "from tensorflow.keras.preprocessing.image import ImageDataGenerator"
      ],
      "metadata": {
        "id": "8xf4cPFjDKbn"
      },
      "execution_count": 31,
      "outputs": []
    },
    {
      "cell_type": "code",
      "source": [
        "image_size = (150, 150)\n",
        "batch_size = 32"
      ],
      "metadata": {
        "id": "dCcsLSpgNSOT"
      },
      "execution_count": 32,
      "outputs": []
    },
    {
      "cell_type": "markdown",
      "source": [
        "Xception with diffrent preprocessing Function"
      ],
      "metadata": {
        "id": "MjB3pBii-02v"
      }
    },
    {
      "cell_type": "code",
      "source": [
        "train_gen = ImageDataGenerator(preprocessing_function=preprocess_input)\n",
        "\n",
        "train_ds = train_gen.flow_from_directory(\n",
        "    \"/content/clothing-dataset-small/train\",\n",
        "    seed=1,\n",
        "    target_size=image_size,\n",
        "    batch_size=batch_size,\n",
        ")"
      ],
      "metadata": {
        "colab": {
          "base_uri": "https://localhost:8080/"
        },
        "id": "HjQ_3XGJNSRO",
        "outputId": "f36950e6-5d07-4671-a5ae-35d1cd0ce2f1"
      },
      "execution_count": 33,
      "outputs": [
        {
          "output_type": "stream",
          "name": "stdout",
          "text": [
            "Found 3068 images belonging to 10 classes.\n"
          ]
        }
      ]
    },
    {
      "cell_type": "code",
      "source": [
        "validation_gen = ImageDataGenerator(preprocessing_function=preprocess_input)\n",
        "\n",
        "val_ds = validation_gen.flow_from_directory(\n",
        "    \"/content/clothing-dataset-small/validation\",\n",
        "    seed=1,\n",
        "    target_size=image_size,\n",
        "    batch_size=batch_size,\n",
        ")"
      ],
      "metadata": {
        "colab": {
          "base_uri": "https://localhost:8080/"
        },
        "id": "OFXNJycXPS0e",
        "outputId": "4f9bff72-be5b-41ac-98f7-8f2f6acbdfb9"
      },
      "execution_count": 34,
      "outputs": [
        {
          "output_type": "stream",
          "name": "stdout",
          "text": [
            "Found 341 images belonging to 10 classes.\n"
          ]
        }
      ]
    },
    {
      "cell_type": "code",
      "source": [
        "#from focal_loss import SparseCategoricalFocalLoss\n",
        "\n",
        "def make_model(learning_rate):\n",
        "    base_model = Xception(\n",
        "        weights='imagenet',\n",
        "        input_shape=(150, 150, 3),\n",
        "        include_top=False\n",
        "    )\n",
        "\n",
        "    base_model.trainable = False\n",
        "\n",
        "    inputs = keras.Input(shape=(150, 150, 3))\n",
        "\n",
        "    base = base_model(inputs, training=False)\n",
        "    vector = keras.layers.GlobalAveragePooling2D()(base)\n",
        "    outputs = keras.layers.Dense(10)(vector)\n",
        "\n",
        "    model = keras.Model(inputs, outputs)\n",
        "    \n",
        "    model.compile(\n",
        "        optimizer=keras.optimizers.Adam(learning_rate),\n",
        "        loss=keras.losses.CategoricalCrossentropy(from_logits=True),\n",
        "        metrics=[\"accuracy\"],\n",
        "    )\n",
        "    \n",
        "    return model"
      ],
      "metadata": {
        "id": "sT4qR8EpNSTi"
      },
      "execution_count": 55,
      "outputs": []
    },
    {
      "cell_type": "code",
      "source": [
        "callbacks = [keras.callbacks.EarlyStopping(monitor='val_loss',patience=10),\n",
        "             keras.callbacks.ReduceLROnPlateau(monitor='val_loss', factor=0.25,patience=3,verbose=1),\n",
        "             keras.callbacks.ModelCheckpoint(\n",
        "        \"xception_v1_.h5\",\n",
        "        monitor=\"val_accuracy\",\n",
        "        save_best_only=True,\n",
        "        mode='max'\n",
        "    )]\n"
      ],
      "metadata": {
        "id": "ZA9rKLbXwtZI"
      },
      "execution_count": 56,
      "outputs": []
    },
    {
      "cell_type": "code",
      "source": [
        "model = make_model(learning_rate=0.001)\n",
        "history_0_001 = model.fit(train_ds, epochs=10, validation_data=val_ds,callbacks=callbacks)"
      ],
      "metadata": {
        "colab": {
          "base_uri": "https://localhost:8080/"
        },
        "id": "PCFSDY--PlE5",
        "outputId": "c4acee3f-adb2-42c5-d3f1-916bcd1ac898"
      },
      "execution_count": 57,
      "outputs": [
        {
          "output_type": "stream",
          "name": "stdout",
          "text": [
            "Epoch 1/10\n",
            "96/96 [==============================] - 17s 149ms/step - loss: 1.1171 - accuracy: 0.6213 - val_loss: 0.7211 - val_accuracy: 0.7742 - lr: 0.0010\n",
            "Epoch 2/10\n",
            "96/96 [==============================] - 14s 141ms/step - loss: 0.6416 - accuracy: 0.7780 - val_loss: 0.6024 - val_accuracy: 0.8065 - lr: 0.0010\n",
            "Epoch 3/10\n",
            "96/96 [==============================] - 14s 142ms/step - loss: 0.5154 - accuracy: 0.8292 - val_loss: 0.5905 - val_accuracy: 0.8182 - lr: 0.0010\n",
            "Epoch 4/10\n",
            "96/96 [==============================] - 13s 138ms/step - loss: 0.4370 - accuracy: 0.8576 - val_loss: 0.5630 - val_accuracy: 0.8182 - lr: 0.0010\n",
            "Epoch 5/10\n",
            "96/96 [==============================] - 13s 136ms/step - loss: 0.3809 - accuracy: 0.8810 - val_loss: 0.5708 - val_accuracy: 0.8152 - lr: 0.0010\n",
            "Epoch 6/10\n",
            "96/96 [==============================] - 14s 141ms/step - loss: 0.3324 - accuracy: 0.9003 - val_loss: 0.5179 - val_accuracy: 0.8328 - lr: 0.0010\n",
            "Epoch 7/10\n",
            "96/96 [==============================] - 14s 142ms/step - loss: 0.2955 - accuracy: 0.9208 - val_loss: 0.5272 - val_accuracy: 0.8387 - lr: 0.0010\n",
            "Epoch 8/10\n",
            "96/96 [==============================] - 13s 138ms/step - loss: 0.2631 - accuracy: 0.9286 - val_loss: 0.5280 - val_accuracy: 0.8270 - lr: 0.0010\n",
            "Epoch 9/10\n",
            "96/96 [==============================] - ETA: 0s - loss: 0.2361 - accuracy: 0.9404\n",
            "Epoch 9: ReduceLROnPlateau reducing learning rate to 0.0002500000118743628.\n",
            "96/96 [==============================] - 13s 137ms/step - loss: 0.2361 - accuracy: 0.9404 - val_loss: 0.5343 - val_accuracy: 0.8358 - lr: 0.0010\n",
            "Epoch 10/10\n",
            "96/96 [==============================] - 14s 142ms/step - loss: 0.2004 - accuracy: 0.9622 - val_loss: 0.5202 - val_accuracy: 0.8446 - lr: 2.5000e-04\n"
          ]
        }
      ]
    },
    {
      "cell_type": "code",
      "source": [
        "plt.figure(figsize=(6, 4))\n",
        "\n",
        "epochs = history_0_001.epoch\n",
        "val = history_0_001.history['val_accuracy']\n",
        "train = history_0_001.history['accuracy']\n",
        "\n",
        "plt.plot(epochs, val, color='black', linestyle='solid', label='validation')\n",
        "plt.plot(epochs, train, color='black', linestyle='dashed', label='train')\n",
        "\n",
        "plt.title('Xception v1, lr=0.001')\n",
        "plt.xlabel('Epoch')\n",
        "plt.ylabel('Accuracy')\n",
        "\n",
        "plt.xticks(epochs)\n",
        "\n",
        "plt.legend()\n",
        "\n",
        "\n",
        "plt.savefig('xception_v1_0_001.svg')\n",
        "\n",
        "plt.show()"
      ],
      "metadata": {
        "id": "D9Vc6p0nPs_C",
        "colab": {
          "base_uri": "https://localhost:8080/",
          "height": 294
        },
        "outputId": "19f3a2e5-dd99-4ace-f25b-61dccd887985"
      },
      "execution_count": 58,
      "outputs": [
        {
          "output_type": "display_data",
          "data": {
            "text/plain": [
              "<Figure size 432x288 with 1 Axes>"
            ],
            "image/png": "[encoded data removed]"
          },
          "metadata": {
            "needs_background": "light"
          }
        }
      ]
    },
    {
      "cell_type": "markdown",
      "source": [
        "# Data Augmentation with a Large Inception model"
      ],
      "metadata": {
        "id": "vX9I6K-vP_-p"
      }
    },
    {
      "cell_type": "code",
      "source": [
        "def make_model(learning_rate, droprate):\n",
        "    base_model = Xception(\n",
        "        weights='imagenet',\n",
        "        input_shape=(299, 299, 3),\n",
        "        include_top=False\n",
        "    )\n",
        "\n",
        "    base_model.trainable = False\n",
        "\n",
        "    inputs = keras.Input(shape=(299, 299, 3))\n",
        "\n",
        "    base = base_model(inputs, training=False)\n",
        "    vector = keras.layers.GlobalAveragePooling2D()(base)\n",
        "\n",
        "    inner = keras.layers.Dense(100, activation='relu')(vector)\n",
        "    drop = keras.layers.Dropout(droprate)(inner)\n",
        "\n",
        "    outputs = keras.layers.Dense(10)(drop)\n",
        "\n",
        "    model = keras.Model(inputs, outputs)\n",
        "    \n",
        "    model.compile(\n",
        "        optimizer=keras.optimizers.Adam(learning_rate),\n",
        "        loss=keras.losses.CategoricalCrossentropy(from_logits=True),\n",
        "        metrics=[\"accuracy\"],\n",
        "    )\n",
        "    \n",
        "    return model"
      ],
      "metadata": {
        "id": "17vvg6rZPx96"
      },
      "execution_count": 59,
      "outputs": []
    },
    {
      "cell_type": "code",
      "source": [
        "image_size = (299, 299)\n",
        "batch_size = 32"
      ],
      "metadata": {
        "id": "BkA8x3dbQLrZ"
      },
      "execution_count": 60,
      "outputs": []
    },
    {
      "cell_type": "code",
      "source": [
        "train_gen = ImageDataGenerator(\n",
        "    preprocessing_function=preprocess_input,\n",
        "    shear_range=10.0,\n",
        "    zoom_range=0.1,\n",
        "    horizontal_flip=True,  \n",
        ")\n",
        "\n",
        "train_ds = train_gen.flow_from_directory(\n",
        "    \"/content/clothing-dataset-small/train\",\n",
        "    seed=1,\n",
        "    target_size=image_size,\n",
        "    batch_size=batch_size,\n",
        ")"
      ],
      "metadata": {
        "id": "k9UiQSgOQLwZ",
        "colab": {
          "base_uri": "https://localhost:8080/"
        },
        "outputId": "0a666172-ed52-458c-bc68-7703a50ad4a0"
      },
      "execution_count": 61,
      "outputs": [
        {
          "output_type": "stream",
          "name": "stdout",
          "text": [
            "Found 3068 images belonging to 10 classes.\n"
          ]
        }
      ]
    },
    {
      "cell_type": "code",
      "source": [
        "validation_gen = ImageDataGenerator(preprocessing_function=preprocess_input)\n",
        "\n",
        "val_ds = validation_gen.flow_from_directory(\n",
        "    \"/content/clothing-dataset-small/validation\",\n",
        "    seed=1,\n",
        "    target_size=image_size,\n",
        "    batch_size=batch_size,\n",
        ")"
      ],
      "metadata": {
        "id": "pKDDL0WoQRoK",
        "colab": {
          "base_uri": "https://localhost:8080/"
        },
        "outputId": "5c26c657-bd94-413b-f375-af49c82ffb3f"
      },
      "execution_count": 62,
      "outputs": [
        {
          "output_type": "stream",
          "name": "stdout",
          "text": [
            "Found 341 images belonging to 10 classes.\n"
          ]
        }
      ]
    },
    {
      "cell_type": "code",
      "source": [
        "model = make_model(learning_rate=0.001, droprate=0.2)\n",
        "\n",
        "callbacks = [keras.callbacks.EarlyStopping(monitor='val_loss',patience=10),\n",
        "             keras.callbacks.ReduceLROnPlateau(monitor='val_loss', factor=0.25,patience=3,verbose=1),\n",
        "             keras.callbacks.ModelCheckpoint(\n",
        "        \"xception_v1_{epoch:02d}_{val_accuracy:.3f}.h5\",\n",
        "        monitor=\"val_accuracy\",\n",
        "        save_best_only=True,\n",
        "        mode='max'\n",
        "    )]\n",
        "history_l = model.fit(train_ds, epochs=20, validation_data=val_ds, callbacks=callbacks)"
      ],
      "metadata": {
        "id": "SkjOKNbyQRqb",
        "colab": {
          "base_uri": "https://localhost:8080/"
        },
        "outputId": "08b68f87-72f4-400e-f9e3-ea7dbb1dcdaf"
      },
      "execution_count": 63,
      "outputs": [
        {
          "output_type": "stream",
          "name": "stdout",
          "text": [
            "Epoch 1/20\n",
            "96/96 [==============================] - 76s 753ms/step - loss: 0.8318 - accuracy: 0.7308 - val_loss: 0.4445 - val_accuracy: 0.8475 - lr: 0.0010\n",
            "Epoch 2/20\n",
            "96/96 [==============================] - 70s 728ms/step - loss: 0.4632 - accuracy: 0.8364 - val_loss: 0.4446 - val_accuracy: 0.8680 - lr: 0.0010\n",
            "Epoch 3/20\n",
            "96/96 [==============================] - 70s 726ms/step - loss: 0.3886 - accuracy: 0.8667 - val_loss: 0.3878 - val_accuracy: 0.8651 - lr: 0.0010\n",
            "Epoch 4/20\n",
            "96/96 [==============================] - 70s 733ms/step - loss: 0.3328 - accuracy: 0.8843 - val_loss: 0.3646 - val_accuracy: 0.8710 - lr: 0.0010\n",
            "Epoch 5/20\n",
            "96/96 [==============================] - 70s 729ms/step - loss: 0.2966 - accuracy: 0.8960 - val_loss: 0.3898 - val_accuracy: 0.8680 - lr: 0.0010\n",
            "Epoch 6/20\n",
            "96/96 [==============================] - 70s 725ms/step - loss: 0.2794 - accuracy: 0.9048 - val_loss: 0.3694 - val_accuracy: 0.8710 - lr: 0.0010\n",
            "Epoch 7/20\n",
            "96/96 [==============================] - ETA: 0s - loss: 0.2503 - accuracy: 0.9153\n",
            "Epoch 7: ReduceLROnPlateau reducing learning rate to 0.0002500000118743628.\n",
            "96/96 [==============================] - 70s 726ms/step - loss: 0.2503 - accuracy: 0.9153 - val_loss: 0.3894 - val_accuracy: 0.8622 - lr: 0.0010\n",
            "Epoch 8/20\n",
            "96/96 [==============================] - 70s 731ms/step - loss: 0.2112 - accuracy: 0.9293 - val_loss: 0.3637 - val_accuracy: 0.8798 - lr: 2.5000e-04\n",
            "Epoch 9/20\n",
            "96/96 [==============================] - 70s 726ms/step - loss: 0.2017 - accuracy: 0.9270 - val_loss: 0.3655 - val_accuracy: 0.8798 - lr: 2.5000e-04\n",
            "Epoch 10/20\n",
            "96/96 [==============================] - 70s 725ms/step - loss: 0.1858 - accuracy: 0.9390 - val_loss: 0.3559 - val_accuracy: 0.8798 - lr: 2.5000e-04\n",
            "Epoch 11/20\n",
            "96/96 [==============================] - 70s 725ms/step - loss: 0.1914 - accuracy: 0.9332 - val_loss: 0.3590 - val_accuracy: 0.8827 - lr: 2.5000e-04\n",
            "Epoch 12/20\n",
            "96/96 [==============================] - 69s 721ms/step - loss: 0.1783 - accuracy: 0.9387 - val_loss: 0.3797 - val_accuracy: 0.8592 - lr: 2.5000e-04\n",
            "Epoch 13/20\n",
            "96/96 [==============================] - ETA: 0s - loss: 0.1747 - accuracy: 0.9430\n",
            "Epoch 13: ReduceLROnPlateau reducing learning rate to 6.25000029685907e-05.\n",
            "96/96 [==============================] - 70s 726ms/step - loss: 0.1747 - accuracy: 0.9430 - val_loss: 0.3590 - val_accuracy: 0.8798 - lr: 2.5000e-04\n",
            "Epoch 14/20\n",
            "96/96 [==============================] - 70s 725ms/step - loss: 0.1591 - accuracy: 0.9498 - val_loss: 0.3566 - val_accuracy: 0.8768 - lr: 6.2500e-05\n",
            "Epoch 15/20\n",
            "96/96 [==============================] - 70s 723ms/step - loss: 0.1602 - accuracy: 0.9482 - val_loss: 0.3577 - val_accuracy: 0.8739 - lr: 6.2500e-05\n",
            "Epoch 16/20\n",
            "96/96 [==============================] - ETA: 0s - loss: 0.1578 - accuracy: 0.9495\n",
            "Epoch 16: ReduceLROnPlateau reducing learning rate to 1.5625000742147677e-05.\n",
            "96/96 [==============================] - 73s 757ms/step - loss: 0.1578 - accuracy: 0.9495 - val_loss: 0.3584 - val_accuracy: 0.8680 - lr: 6.2500e-05\n",
            "Epoch 17/20\n",
            "96/96 [==============================] - 71s 733ms/step - loss: 0.1646 - accuracy: 0.9482 - val_loss: 0.3580 - val_accuracy: 0.8710 - lr: 1.5625e-05\n",
            "Epoch 18/20\n",
            "96/96 [==============================] - 75s 781ms/step - loss: 0.1548 - accuracy: 0.9495 - val_loss: 0.3576 - val_accuracy: 0.8710 - lr: 1.5625e-05\n",
            "Epoch 19/20\n",
            "96/96 [==============================] - ETA: 0s - loss: 0.1609 - accuracy: 0.9459\n",
            "Epoch 19: ReduceLROnPlateau reducing learning rate to 3.906250185536919e-06.\n",
            "96/96 [==============================] - 74s 774ms/step - loss: 0.1609 - accuracy: 0.9459 - val_loss: 0.3586 - val_accuracy: 0.8710 - lr: 1.5625e-05\n",
            "Epoch 20/20\n",
            "96/96 [==============================] - 79s 826ms/step - loss: 0.1583 - accuracy: 0.9488 - val_loss: 0.3582 - val_accuracy: 0.8710 - lr: 3.9063e-06\n"
          ]
        }
      ]
    },
    {
      "cell_type": "code",
      "source": [
        "model.save('/content/drive/MyDrive/Mfinal.h5')"
      ],
      "metadata": {
        "id": "jK_hKC8fuMBP"
      },
      "execution_count": 64,
      "outputs": []
    },
    {
      "cell_type": "code",
      "source": [
        "model = keras.models.load_model('/content/drive/MyDrive/Mfinal.h5')"
      ],
      "metadata": {
        "id": "I6lufEAR4_zR"
      },
      "execution_count": 65,
      "outputs": []
    },
    {
      "cell_type": "code",
      "source": [
        "test_gen = ImageDataGenerator(preprocessing_function=preprocess_input)\n",
        "\n",
        "test_ds = test_gen.flow_from_directory(\n",
        "    \"/content/clothing-dataset-small/test\",\n",
        "    shuffle=False,\n",
        "    target_size=image_size,\n",
        "    batch_size=32,\n",
        ")"
      ],
      "metadata": {
        "id": "dtb1r8Bn5Opk",
        "colab": {
          "base_uri": "https://localhost:8080/"
        },
        "outputId": "367f65ec-d815-4abc-8a05-7121117f438a"
      },
      "execution_count": 66,
      "outputs": [
        {
          "output_type": "stream",
          "name": "stdout",
          "text": [
            "Found 372 images belonging to 10 classes.\n"
          ]
        }
      ]
    },
    {
      "cell_type": "code",
      "source": [
        "model.evaluate(test_ds)"
      ],
      "metadata": {
        "id": "Ze7kc7b75Ors",
        "colab": {
          "base_uri": "https://localhost:8080/"
        },
        "outputId": "d747813f-ae83-44f3-a9df-be04d1d654e0"
      },
      "execution_count": 67,
      "outputs": [
        {
          "output_type": "stream",
          "name": "stdout",
          "text": [
            "12/12 [==============================] - 5s 321ms/step - loss: 0.2496 - accuracy: 0.9086\n"
          ]
        },
        {
          "output_type": "execute_result",
          "data": {
            "text/plain": [
              "[0.24961742758750916, 0.9086021780967712]"
            ]
          },
          "metadata": {},
          "execution_count": 67
        }
      ]
    },
    {
      "cell_type": "markdown",
      "source": [
        "The model performs even better than in the validation data: 90% on test vs 89% on validation"
      ],
      "metadata": {
        "id": "SUOpmXOo5-_Z"
      }
    },
    {
      "cell_type": "code",
      "source": [
        ""
      ],
      "metadata": {
        "id": "-CdPbYYfJ68y"
      },
      "execution_count": null,
      "outputs": []
    }
  ]
}