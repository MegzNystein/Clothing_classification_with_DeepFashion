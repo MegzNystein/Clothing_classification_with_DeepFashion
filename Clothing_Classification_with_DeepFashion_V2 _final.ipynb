{
  "nbformat": 4,
  "nbformat_minor": 0,
  "metadata": {
    "colab": {
      "name": "Clothing_Classification_with_DeepFashion_V2.ipynb",
      "provenance": [],
      "collapsed_sections": []
    },
    "kernelspec": {
      "name": "python3",
      "display_name": "Python 3"
    },
    "language_info": {
      "name": "python"
    },
    "accelerator": "GPU"
  },
  "cells": [
    {
      "cell_type": "markdown",
      "source": [
        "# cloning the dataset"
      ],
      "metadata": {
        "id": "r01NyZyd1qPQ"
      }
    },
    {
      "cell_type": "code",
      "source": [
        "! git clone https://github.com/alexeygrigorev/clothing-dataset-small.git"
      ],
      "metadata": {
        "colab": {
          "base_uri": "https://localhost:8080/"
        },
        "id": "lekg7I5_wXHS",
        "outputId": "a61590f3-3096-4371-b473-82b4642d8d4b"
      },
      "execution_count": 1,
      "outputs": [
        {
          "output_type": "stream",
          "name": "stdout",
          "text": [
            "fatal: destination path 'clothing-dataset-small' already exists and is not an empty directory.\n"
          ]
        }
      ]
    },
    {
      "cell_type": "code",
      "execution_count": 2,
      "metadata": {
        "id": "jn5WG0YowQj3"
      },
      "outputs": [],
      "source": [
        "import os\n",
        "import numpy as np\n",
        "import pandas as pd\n",
        "\n",
        "\n",
        "import matplotlib.pyplot as plt\n",
        "%matplotlib inline\n",
        "import tensorflow as tf\n",
        "from tensorflow import keras\n",
        "\n",
        "from tensorflow.keras.preprocessing.image import load_img \n",
        "from tensorflow.keras.preprocessing.image import ImageDataGenerator"
      ]
    },
    {
      "cell_type": "code",
      "source": [
        "base_dir = '/content/clothing-dataset-small'\n",
        "\n",
        "train_dir = os.path.join(base_dir, 'train')\n",
        "validation_dir = os.path.join(base_dir, 'validation')\n",
        "test_dir = os.path.join(base_dir, 'test')\n"
      ],
      "metadata": {
        "id": "3_LEk6NkylwZ"
      },
      "execution_count": 3,
      "outputs": []
    },
    {
      "cell_type": "code",
      "source": [
        "os.listdir(train_dir)"
      ],
      "metadata": {
        "colab": {
          "base_uri": "https://localhost:8080/"
        },
        "id": "Iham5mzt2tY8",
        "outputId": "adf54c2c-f7a9-4867-a343-643c97e9e936"
      },
      "execution_count": 4,
      "outputs": [
        {
          "output_type": "execute_result",
          "data": {
            "text/plain": [
              "['outwear',\n",
              " 'skirt',\n",
              " 'dress',\n",
              " 'shirt',\n",
              " 'hat',\n",
              " 't-shirt',\n",
              " 'pants',\n",
              " 'longsleeve',\n",
              " 'shoes',\n",
              " 'shorts']"
            ]
          },
          "metadata": {},
          "execution_count": 4
        }
      ]
    },
    {
      "cell_type": "code",
      "source": [
        "count = []\n",
        "idx = {}\n",
        "for i in os.listdir(train_dir):\n",
        "    p = len(os.listdir(os.path.join(train_dir,i)))\n",
        "    count.append(p)\n",
        "    idx[i] = p\n",
        "\n",
        "sum(idx.values())\n",
        "#len(os.listdir(os.path.join(validation_dir,'skirt')))\n"
      ],
      "metadata": {
        "colab": {
          "base_uri": "https://localhost:8080/"
        },
        "id": "7Jvn1WL00eK0",
        "outputId": "bd997188-064e-45f3-b90c-26a942d386ff"
      },
      "execution_count": 5,
      "outputs": [
        {
          "output_type": "execute_result",
          "data": {
            "text/plain": [
              "3068"
            ]
          },
          "metadata": {},
          "execution_count": 5
        }
      ]
    },
    {
      "cell_type": "markdown",
      "source": [
        "# plotting some statistics about the data "
      ],
      "metadata": {
        "id": "BpXgqxEf4f1j"
      }
    },
    {
      "cell_type": "code",
      "source": [
        "names = list(idx.keys())\n",
        "values = list(idx.values())\n",
        "\n",
        "fig = plt.figure(figsize = (10, 5))\n",
        "\n",
        "plt.bar(range(len(idx)), values, tick_label=names)\n",
        "plt.show()"
      ],
      "metadata": {
        "colab": {
          "base_uri": "https://localhost:8080/",
          "height": 320
        },
        "id": "-hl2iAir4M6U",
        "outputId": "3bb89aa3-a4e1-4866-9129-2fad6ca813af"
      },
      "execution_count": 6,
      "outputs": [
        {
          "output_type": "display_data",
          "data": {
            "text/plain": [
              "<Figure size 720x360 with 1 Axes>"
            ],
            "image/png": "[encoded data removed]"
          },
          "metadata": {
            "needs_background": "light"
          }
        }
      ]
    },
    {
      "cell_type": "markdown",
      "source": [
        "there is a class imbalance problem in this data , so we try to to use some class imbalance techniques. according to our proplem which is Computer vision proplem so we might use Focal Loss . is short its gives more weight for low data and low weight for high class data "
      ],
      "metadata": {
        "id": "psbFUOEU5ZlT"
      }
    },
    {
      "cell_type": "markdown",
      "source": [
        "#  Let's instantiate the VGG16 model:\n",
        "\n"
      ],
      "metadata": {
        "id": "44Ov9c9-wqsC"
      }
    },
    {
      "cell_type": "code",
      "source": [
        "from tensorflow.keras.applications import VGG16\n",
        "\n",
        "conv_base = VGG16(weights='imagenet',\n",
        "                  include_top=False,\n",
        "                  input_shape=(150, 150, 3))"
      ],
      "metadata": {
        "id": "_y7TWocEwl-J"
      },
      "execution_count": 7,
      "outputs": []
    },
    {
      "cell_type": "markdown",
      "source": [
        "Removing the Dense layers of the base network"
      ],
      "metadata": {
        "id": "4NrmITzFxuxz"
      }
    },
    {
      "cell_type": "code",
      "source": [
        "conv_base.summary()"
      ],
      "metadata": {
        "colab": {
          "base_uri": "https://localhost:8080/"
        },
        "id": "VM9G-OCUwwLJ",
        "outputId": "043d2d50-a0ab-4c1b-c172-66595baed650"
      },
      "execution_count": 8,
      "outputs": [
        {
          "output_type": "stream",
          "name": "stdout",
          "text": [
            "Model: \"vgg16\"\n",
            "_________________________________________________________________\n",
            " Layer (type)                Output Shape              Param #   \n",
            "=================================================================\n",
            " input_1 (InputLayer)        [(None, 150, 150, 3)]     0         \n",
            "                                                                 \n",
            " block1_conv1 (Conv2D)       (None, 150, 150, 64)      1792      \n",
            "                                                                 \n",
            " block1_conv2 (Conv2D)       (None, 150, 150, 64)      36928     \n",
            "                                                                 \n",
            " block1_pool (MaxPooling2D)  (None, 75, 75, 64)        0         \n",
            "                                                                 \n",
            " block2_conv1 (Conv2D)       (None, 75, 75, 128)       73856     \n",
            "                                                                 \n",
            " block2_conv2 (Conv2D)       (None, 75, 75, 128)       147584    \n",
            "                                                                 \n",
            " block2_pool (MaxPooling2D)  (None, 37, 37, 128)       0         \n",
            "                                                                 \n",
            " block3_conv1 (Conv2D)       (None, 37, 37, 256)       295168    \n",
            "                                                                 \n",
            " block3_conv2 (Conv2D)       (None, 37, 37, 256)       590080    \n",
            "                                                                 \n",
            " block3_conv3 (Conv2D)       (None, 37, 37, 256)       590080    \n",
            "                                                                 \n",
            " block3_pool (MaxPooling2D)  (None, 18, 18, 256)       0         \n",
            "                                                                 \n",
            " block4_conv1 (Conv2D)       (None, 18, 18, 512)       1180160   \n",
            "                                                                 \n",
            " block4_conv2 (Conv2D)       (None, 18, 18, 512)       2359808   \n",
            "                                                                 \n",
            " block4_conv3 (Conv2D)       (None, 18, 18, 512)       2359808   \n",
            "                                                                 \n",
            " block4_pool (MaxPooling2D)  (None, 9, 9, 512)         0         \n",
            "                                                                 \n",
            " block5_conv1 (Conv2D)       (None, 9, 9, 512)         2359808   \n",
            "                                                                 \n",
            " block5_conv2 (Conv2D)       (None, 9, 9, 512)         2359808   \n",
            "                                                                 \n",
            " block5_conv3 (Conv2D)       (None, 9, 9, 512)         2359808   \n",
            "                                                                 \n",
            " block5_pool (MaxPooling2D)  (None, 4, 4, 512)         0         \n",
            "                                                                 \n",
            "=================================================================\n",
            "Total params: 14,714,688\n",
            "Trainable params: 14,714,688\n",
            "Non-trainable params: 0\n",
            "_________________________________________________________________\n"
          ]
        }
      ]
    },
    {
      "cell_type": "markdown",
      "source": [
        "**there are two ways we could proceed:**"
      ],
      "metadata": {
        "id": "oJnErROByQ55"
      }
    },
    {
      "cell_type": "markdown",
      "source": [
        "\n",
        "\n",
        "*   Running the convolutional base over our dataset, recording its output to a Numpy array on disk, then using this data as input to a standalone densely-connected classifier . This solution is very fast and cheap to run, because it only requires running the convolutional base once for every input image, and the convolutional base is by far the most expensive part of the pipeline. However, for the exact same reason, this technique would not allow us to leverage data augmentation at all.\n",
        "\n",
        "*   Extending the model we have (conv_base) by adding Dense layers on top, and running the whole thing end-to-end on the input data. This allows us to use data augmentation, because every input image is going through the convolutional base every time it is seen by the model. However, for this same reason, this technique is far more expensive than the first one.\n",
        "\n",
        "\n"
      ],
      "metadata": {
        "id": "40XQL4NUyFBx"
      }
    },
    {
      "cell_type": "code",
      "source": [
        "\n",
        "datagen = ImageDataGenerator(rescale=1./255)\n",
        "batch_size = 20\n",
        "\n",
        "def extract_features(directory, sample_count):\n",
        "    features = np.zeros(shape=(sample_count, 4, 4, 512))\n",
        "    labels = np.zeros(shape=(sample_count,10))\n",
        "    generator = datagen.flow_from_directory(\n",
        "        directory,\n",
        "        target_size=(150, 150),\n",
        "        batch_size=batch_size)\n",
        "    i = 0\n",
        "    for inputs_batch, labels_batch in generator:\n",
        "        features_batch = conv_base.predict(inputs_batch)\n",
        "        features[i * batch_size : (i + 1) * batch_size] = features_batch\n",
        "        labels[i * batch_size : (i + 1) * batch_size] = labels_batch\n",
        "        i += 1\n",
        "        if i * batch_size >= sample_count:\n",
        "            # Note that since generators yield data indefinitely in a loop,\n",
        "            # we must `break` after every image has been seen once.\n",
        "            break\n",
        "    return features, labels\n",
        "\n",
        "train_features, train_labels = extract_features(train_dir, 3068)\n",
        "validation_features, validation_labels = extract_features(validation_dir, 341)\n",
        "test_features, test_labels = extract_features(test_dir, 372)"
      ],
      "metadata": {
        "colab": {
          "base_uri": "https://localhost:8080/"
        },
        "id": "qc3dacRcwwNp",
        "outputId": "922ac18e-1351-4dab-edad-c435e8e1df40"
      },
      "execution_count": 9,
      "outputs": [
        {
          "output_type": "stream",
          "name": "stdout",
          "text": [
            "Found 3068 images belonging to 10 classes.\n",
            "Found 341 images belonging to 10 classes.\n",
            "Found 372 images belonging to 10 classes.\n"
          ]
        }
      ]
    },
    {
      "cell_type": "markdown",
      "source": [
        "The extracted features are currently of shape (samples, 4, 4, 512). We will feed them to a densely-connected classifier, so first we must flatten them to (samples, 8192)"
      ],
      "metadata": {
        "id": "oIJegFjV-Erz"
      }
    },
    {
      "cell_type": "code",
      "source": [
        "train_features = np.reshape(train_features, (3068, 4 * 4 * 512))\n",
        "validation_features = np.reshape(validation_features, (341, 4 * 4 * 512))\n",
        "test_features = np.reshape(test_features, (372, 4 * 4 * 512))"
      ],
      "metadata": {
        "id": "tUtzzan-9-L9"
      },
      "execution_count": 10,
      "outputs": []
    },
    {
      "cell_type": "code",
      "source": [
        "import keras.backend as K\n",
        "import tensorflow as tf\n",
        "\n",
        "def categorical_focal_loss(gamma=2., alpha=.25):\n",
        "\n",
        "    def categorical_focal_loss_fixed(y_true, y_pred):\n",
        "        \"\"\"\n",
        "        :param y_true: A tensor of the same shape as `y_pred`\n",
        "        :param y_pred: A tensor resulting from a softmax\n",
        "        :return: Output tensor.\n",
        "        \"\"\"\n",
        "\n",
        "        # Scale predictions so that the class probas of each sample sum to 1\n",
        "        y_pred /= K.sum(y_pred, axis=-1, keepdims=True)\n",
        "\n",
        "        # Clip the prediction value to prevent NaN's and Inf's\n",
        "        epsilon = K.epsilon()\n",
        "        y_pred = K.clip(y_pred, epsilon, 1. - epsilon)\n",
        "\n",
        "        # Calculate Cross Entropy\n",
        "        cross_entropy = -y_true * K.log(y_pred)\n",
        "\n",
        "        # Calculate Focal Loss\n",
        "        loss = alpha * K.pow(1 - y_pred, gamma) * cross_entropy\n",
        "\n",
        "        # Sum the losses in mini_batch\n",
        "        return K.sum(loss, axis=1)\n",
        "\n",
        "    return categorical_focal_loss_fixed"
      ],
      "metadata": {
        "id": "olCtdeLpi5sC"
      },
      "execution_count": 11,
      "outputs": []
    },
    {
      "cell_type": "code",
      "source": [
        "from keras import models\n",
        "from keras import layers\n",
        "from keras import optimizers\n",
        "#try to use focal loss in the loss category \n",
        "\n",
        "model = models.Sequential()\n",
        "model.add(layers.Dense(256, activation='relu', input_dim=4 * 4 * 512))\n",
        "model.add(layers.Dropout(0.2))\n",
        "model.add(layers.Dense(10, activation='softmax'))\n",
        "\n",
        "model.compile(optimizer=keras.optimizers.RMSprop(lr=0.001),\n",
        "              loss=categorical_focal_loss(),\n",
        "              metrics=['acc'])\n",
        "\n",
        "history = model.fit(train_features, train_labels,\n",
        "                    epochs=50,\n",
        "                    batch_size=20,\n",
        "                    validation_data=(validation_features, validation_labels))"
      ],
      "metadata": {
        "colab": {
          "base_uri": "https://localhost:8080/"
        },
        "id": "vTvu4L6rwwQR",
        "outputId": "2f7e22a3-fbdd-4c76-876a-464d152cf0ae"
      },
      "execution_count": 12,
      "outputs": [
        {
          "output_type": "stream",
          "name": "stdout",
          "text": [
            "Epoch 1/50\n"
          ]
        },
        {
          "output_type": "stream",
          "name": "stderr",
          "text": [
            "/usr/local/lib/python3.7/dist-packages/keras/optimizer_v2/rmsprop.py:130: UserWarning: The `lr` argument is deprecated, use `learning_rate` instead.\n",
            "  super(RMSprop, self).__init__(name, **kwargs)\n"
          ]
        },
        {
          "output_type": "stream",
          "name": "stdout",
          "text": [
            "154/154 [==============================] - 2s 8ms/step - loss: 0.2413 - acc: 0.6076 - val_loss: 0.1763 - val_acc: 0.6158\n",
            "Epoch 2/50\n",
            "154/154 [==============================] - 1s 7ms/step - loss: 0.1004 - acc: 0.7552 - val_loss: 0.1124 - val_acc: 0.7537\n",
            "Epoch 3/50\n",
            "154/154 [==============================] - 1s 7ms/step - loss: 0.0670 - acc: 0.8168 - val_loss: 0.1055 - val_acc: 0.7742\n",
            "Epoch 4/50\n",
            "154/154 [==============================] - 1s 7ms/step - loss: 0.0485 - acc: 0.8566 - val_loss: 0.0878 - val_acc: 0.8182\n",
            "Epoch 5/50\n",
            "154/154 [==============================] - 1s 7ms/step - loss: 0.0381 - acc: 0.8862 - val_loss: 0.0827 - val_acc: 0.8152\n",
            "Epoch 6/50\n",
            "154/154 [==============================] - 1s 7ms/step - loss: 0.0293 - acc: 0.9094 - val_loss: 0.0986 - val_acc: 0.8387\n",
            "Epoch 7/50\n",
            "154/154 [==============================] - 1s 7ms/step - loss: 0.0245 - acc: 0.9241 - val_loss: 0.0908 - val_acc: 0.8534\n",
            "Epoch 8/50\n",
            "154/154 [==============================] - 1s 7ms/step - loss: 0.0232 - acc: 0.9368 - val_loss: 0.0829 - val_acc: 0.8592\n",
            "Epoch 9/50\n",
            "154/154 [==============================] - 1s 7ms/step - loss: 0.0184 - acc: 0.9420 - val_loss: 0.1098 - val_acc: 0.8299\n",
            "Epoch 10/50\n",
            "154/154 [==============================] - 1s 7ms/step - loss: 0.0180 - acc: 0.9488 - val_loss: 0.0881 - val_acc: 0.8768\n",
            "Epoch 11/50\n",
            "154/154 [==============================] - 1s 7ms/step - loss: 0.0163 - acc: 0.9472 - val_loss: 0.1302 - val_acc: 0.8182\n",
            "Epoch 12/50\n",
            "154/154 [==============================] - 1s 7ms/step - loss: 0.0106 - acc: 0.9651 - val_loss: 0.1131 - val_acc: 0.8534\n",
            "Epoch 13/50\n",
            "154/154 [==============================] - 1s 7ms/step - loss: 0.0120 - acc: 0.9553 - val_loss: 0.1585 - val_acc: 0.7918\n",
            "Epoch 14/50\n",
            "154/154 [==============================] - 1s 7ms/step - loss: 0.0136 - acc: 0.9619 - val_loss: 0.1597 - val_acc: 0.7918\n",
            "Epoch 15/50\n",
            "154/154 [==============================] - 1s 7ms/step - loss: 0.0080 - acc: 0.9716 - val_loss: 0.1355 - val_acc: 0.8592\n",
            "Epoch 16/50\n",
            "154/154 [==============================] - 1s 7ms/step - loss: 0.0095 - acc: 0.9671 - val_loss: 0.1791 - val_acc: 0.8065\n",
            "Epoch 17/50\n",
            "154/154 [==============================] - 1s 7ms/step - loss: 0.0106 - acc: 0.9703 - val_loss: 0.1357 - val_acc: 0.8563\n",
            "Epoch 18/50\n",
            "154/154 [==============================] - 1s 7ms/step - loss: 0.0079 - acc: 0.9752 - val_loss: 0.1581 - val_acc: 0.8534\n",
            "Epoch 19/50\n",
            "154/154 [==============================] - 1s 7ms/step - loss: 0.0091 - acc: 0.9749 - val_loss: 0.1761 - val_acc: 0.8416\n",
            "Epoch 20/50\n",
            "154/154 [==============================] - 1s 7ms/step - loss: 0.0077 - acc: 0.9778 - val_loss: 0.1587 - val_acc: 0.8504\n",
            "Epoch 21/50\n",
            "154/154 [==============================] - 1s 7ms/step - loss: 0.0090 - acc: 0.9762 - val_loss: 0.1325 - val_acc: 0.8710\n",
            "Epoch 22/50\n",
            "154/154 [==============================] - 1s 7ms/step - loss: 0.0080 - acc: 0.9769 - val_loss: 0.1439 - val_acc: 0.8563\n",
            "Epoch 23/50\n",
            "154/154 [==============================] - 1s 7ms/step - loss: 0.0065 - acc: 0.9795 - val_loss: 0.1853 - val_acc: 0.8504\n",
            "Epoch 24/50\n",
            "154/154 [==============================] - 1s 7ms/step - loss: 0.0084 - acc: 0.9821 - val_loss: 0.2080 - val_acc: 0.8416\n",
            "Epoch 25/50\n",
            "154/154 [==============================] - 1s 7ms/step - loss: 0.0088 - acc: 0.9769 - val_loss: 0.1875 - val_acc: 0.8446\n",
            "Epoch 26/50\n",
            "154/154 [==============================] - 1s 7ms/step - loss: 0.0048 - acc: 0.9879 - val_loss: 0.1855 - val_acc: 0.8563\n",
            "Epoch 27/50\n",
            "154/154 [==============================] - 1s 7ms/step - loss: 0.0063 - acc: 0.9817 - val_loss: 0.2602 - val_acc: 0.7947\n",
            "Epoch 28/50\n",
            "154/154 [==============================] - 1s 7ms/step - loss: 0.0061 - acc: 0.9834 - val_loss: 0.1778 - val_acc: 0.8563\n",
            "Epoch 29/50\n",
            "154/154 [==============================] - 1s 7ms/step - loss: 0.0065 - acc: 0.9837 - val_loss: 0.1862 - val_acc: 0.8446\n",
            "Epoch 30/50\n",
            "154/154 [==============================] - 1s 7ms/step - loss: 0.0076 - acc: 0.9821 - val_loss: 0.1899 - val_acc: 0.8446\n",
            "Epoch 31/50\n",
            "154/154 [==============================] - 1s 7ms/step - loss: 0.0063 - acc: 0.9873 - val_loss: 0.2092 - val_acc: 0.8475\n",
            "Epoch 32/50\n",
            "154/154 [==============================] - 1s 7ms/step - loss: 0.0078 - acc: 0.9844 - val_loss: 0.1712 - val_acc: 0.8534\n",
            "Epoch 33/50\n",
            "154/154 [==============================] - 1s 7ms/step - loss: 0.0052 - acc: 0.9857 - val_loss: 0.1673 - val_acc: 0.8475\n",
            "Epoch 34/50\n",
            "154/154 [==============================] - 1s 7ms/step - loss: 0.0064 - acc: 0.9824 - val_loss: 0.1834 - val_acc: 0.8534\n",
            "Epoch 35/50\n",
            "154/154 [==============================] - 1s 7ms/step - loss: 0.0049 - acc: 0.9892 - val_loss: 0.1724 - val_acc: 0.8622\n",
            "Epoch 36/50\n",
            "154/154 [==============================] - 1s 7ms/step - loss: 0.0054 - acc: 0.9876 - val_loss: 0.1832 - val_acc: 0.8446\n",
            "Epoch 37/50\n",
            "154/154 [==============================] - 1s 7ms/step - loss: 0.0064 - acc: 0.9853 - val_loss: 0.1941 - val_acc: 0.8475\n",
            "Epoch 38/50\n",
            "154/154 [==============================] - 1s 7ms/step - loss: 0.0043 - acc: 0.9896 - val_loss: 0.2244 - val_acc: 0.8563\n",
            "Epoch 39/50\n",
            "154/154 [==============================] - 1s 7ms/step - loss: 0.0054 - acc: 0.9886 - val_loss: 0.2094 - val_acc: 0.8651\n",
            "Epoch 40/50\n",
            "154/154 [==============================] - 1s 7ms/step - loss: 0.0064 - acc: 0.9844 - val_loss: 0.2234 - val_acc: 0.8446\n",
            "Epoch 41/50\n",
            "154/154 [==============================] - 1s 7ms/step - loss: 0.0046 - acc: 0.9876 - val_loss: 0.2039 - val_acc: 0.8446\n",
            "Epoch 42/50\n",
            "154/154 [==============================] - 1s 7ms/step - loss: 0.0046 - acc: 0.9883 - val_loss: 0.1987 - val_acc: 0.8622\n",
            "Epoch 43/50\n",
            "154/154 [==============================] - 1s 7ms/step - loss: 0.0064 - acc: 0.9870 - val_loss: 0.2444 - val_acc: 0.8592\n",
            "Epoch 44/50\n",
            "154/154 [==============================] - 1s 7ms/step - loss: 0.0062 - acc: 0.9860 - val_loss: 0.2632 - val_acc: 0.8446\n",
            "Epoch 45/50\n",
            "154/154 [==============================] - 1s 7ms/step - loss: 0.0045 - acc: 0.9912 - val_loss: 0.2500 - val_acc: 0.8534\n",
            "Epoch 46/50\n",
            "154/154 [==============================] - 1s 7ms/step - loss: 0.0055 - acc: 0.9863 - val_loss: 0.2450 - val_acc: 0.8534\n",
            "Epoch 47/50\n",
            "154/154 [==============================] - 1s 8ms/step - loss: 0.0053 - acc: 0.9883 - val_loss: 0.2176 - val_acc: 0.8563\n",
            "Epoch 48/50\n",
            "154/154 [==============================] - 1s 7ms/step - loss: 0.0071 - acc: 0.9857 - val_loss: 0.2169 - val_acc: 0.8592\n",
            "Epoch 49/50\n",
            "154/154 [==============================] - 1s 7ms/step - loss: 0.0037 - acc: 0.9915 - val_loss: 0.2101 - val_acc: 0.8622\n",
            "Epoch 50/50\n",
            "154/154 [==============================] - 1s 7ms/step - loss: 0.0040 - acc: 0.9896 - val_loss: 0.2446 - val_acc: 0.8504\n"
          ]
        }
      ]
    },
    {
      "cell_type": "markdown",
      "source": [
        "# using keras to Visualize"
      ],
      "metadata": {
        "id": "U_P3WH0y4sZM"
      }
    },
    {
      "cell_type": "code",
      "source": [
        "!pip install plot_keras_history\n"
      ],
      "metadata": {
        "id": "vRuEpCmt1tXE",
        "colab": {
          "base_uri": "https://localhost:8080/"
        },
        "outputId": "65742aae-302b-4258-dcc1-f4fbb7f17282"
      },
      "execution_count": 13,
      "outputs": [
        {
          "output_type": "stream",
          "name": "stdout",
          "text": [
            "Requirement already satisfied: plot_keras_history in /usr/local/lib/python3.7/dist-packages (1.1.31)\n",
            "Requirement already satisfied: sanitize-ml-labels>=1.0.28 in /usr/local/lib/python3.7/dist-packages (from plot_keras_history) (1.0.31)\n",
            "Requirement already satisfied: matplotlib in /usr/local/lib/python3.7/dist-packages (from plot_keras_history) (3.2.2)\n",
            "Requirement already satisfied: pandas in /usr/local/lib/python3.7/dist-packages (from plot_keras_history) (1.3.5)\n",
            "Requirement already satisfied: scipy in /usr/local/lib/python3.7/dist-packages (from plot_keras_history) (1.4.1)\n",
            "Requirement already satisfied: compress-json in /usr/local/lib/python3.7/dist-packages (from sanitize-ml-labels>=1.0.28->plot_keras_history) (1.0.5)\n",
            "Requirement already satisfied: pyparsing!=2.0.4,!=2.1.2,!=2.1.6,>=2.0.1 in /usr/local/lib/python3.7/dist-packages (from matplotlib->plot_keras_history) (3.0.8)\n",
            "Requirement already satisfied: python-dateutil>=2.1 in /usr/local/lib/python3.7/dist-packages (from matplotlib->plot_keras_history) (2.8.2)\n",
            "Requirement already satisfied: numpy>=1.11 in /usr/local/lib/python3.7/dist-packages (from matplotlib->plot_keras_history) (1.21.5)\n",
            "Requirement already satisfied: cycler>=0.10 in /usr/local/lib/python3.7/dist-packages (from matplotlib->plot_keras_history) (0.11.0)\n",
            "Requirement already satisfied: kiwisolver>=1.0.1 in /usr/local/lib/python3.7/dist-packages (from matplotlib->plot_keras_history) (1.4.2)\n",
            "Requirement already satisfied: typing-extensions in /usr/local/lib/python3.7/dist-packages (from kiwisolver>=1.0.1->matplotlib->plot_keras_history) (4.1.1)\n",
            "Requirement already satisfied: six>=1.5 in /usr/local/lib/python3.7/dist-packages (from python-dateutil>=2.1->matplotlib->plot_keras_history) (1.15.0)\n",
            "Requirement already satisfied: pytz>=2017.3 in /usr/local/lib/python3.7/dist-packages (from pandas->plot_keras_history) (2018.9)\n"
          ]
        }
      ]
    },
    {
      "cell_type": "code",
      "source": [
        "from plot_keras_history import plot_history\n",
        "\n",
        "plot_history(history,single_graphs=True)\n"
      ],
      "metadata": {
        "colab": {
          "base_uri": "https://localhost:8080/",
          "height": 805
        },
        "id": "ODfyT5bj1xUk",
        "outputId": "ce348736-7cc6-4937-ef29-515200d1fa05"
      },
      "execution_count": 14,
      "outputs": [
        {
          "output_type": "execute_result",
          "data": {
            "text/plain": [
              "[(<Figure size 360x360 with 1 Axes>, <Figure size 360x360 with 1 Axes>),\n",
              " (<matplotlib.axes._subplots.AxesSubplot at 0x7fa54321ef90>,\n",
              "  <matplotlib.axes._subplots.AxesSubplot at 0x7fa540381e10>)]"
            ]
          },
          "metadata": {},
          "execution_count": 14
        },
        {
          "output_type": "display_data",
          "data": {
            "text/plain": [
              "<Figure size 360x360 with 1 Axes>"
            ],
            "image/png": "[encoded data removed]"
          },
          "metadata": {
            "needs_background": "light"
          }
        },
        {
          "output_type": "display_data",
          "data": {
            "text/plain": [
              "<Figure size 360x360 with 1 Axes>"
            ],
            "image/png": "[encoded data removed]"
          },
          "metadata": {
            "needs_background": "light"
          }
        }
      ]
    },
    {
      "cell_type": "code",
      "source": [
        "import matplotlib.pyplot as plt\n",
        "def visualize(history):\n",
        "\n",
        "  acc = history.history['acc']\n",
        "  val_acc = history.history['val_acc']\n",
        "  loss = history.history['loss']\n",
        "  val_loss = history.history['val_loss']\n",
        "\n",
        "  epochs = range(len(acc))\n",
        "\n",
        "  plt.plot(epochs, acc, 'bo', label='Training acc')\n",
        "  plt.plot(epochs, val_acc, 'b', label='Validation acc')\n",
        "  plt.title('Training and validation accuracy')\n",
        "  plt.legend()\n",
        "\n",
        "  plt.figure()\n",
        "  \n",
        "  plt.plot(epochs, loss, 'bo', label='Training loss')\n",
        "  plt.plot(epochs, val_loss, 'b', label='Validation loss')\n",
        "  plt.title('Training and validation loss')\n",
        "  plt.legend()\n",
        "  \n",
        "  plt.show()"
      ],
      "metadata": {
        "id": "eAeA96Ip-V0F"
      },
      "execution_count": 15,
      "outputs": []
    },
    {
      "cell_type": "markdown",
      "source": [
        "# Visualizing the previous model using matplotlib\n"
      ],
      "metadata": {
        "id": "mSHUU9sS4lf1"
      }
    },
    {
      "cell_type": "code",
      "source": [
        "visualize(history)"
      ],
      "metadata": {
        "colab": {
          "base_uri": "https://localhost:8080/",
          "height": 545
        },
        "id": "CLihwswB4cFN",
        "outputId": "728929cc-ec74-4cb3-88a9-00a6f5c296a6"
      },
      "execution_count": 16,
      "outputs": [
        {
          "output_type": "display_data",
          "data": {
            "text/plain": [
              "<Figure size 432x288 with 1 Axes>"
            ],
            "image/png": "[encoded data removed]"
          },
          "metadata": {
            "needs_background": "light"
          }
        },
        {
          "output_type": "display_data",
          "data": {
            "text/plain": [
              "<Figure size 432x288 with 1 Axes>"
            ],
            "image/png": "[encoded data removed]"
          },
          "metadata": {
            "needs_background": "light"
          }
        }
      ]
    },
    {
      "cell_type": "markdown",
      "source": [
        "so the model is overfitting , so we can try to increase regulization , dropout and try to use some Data Augmentation Technique"
      ],
      "metadata": {
        "id": "G2_SYxKt6n7p"
      }
    },
    {
      "cell_type": "code",
      "source": [
        "from tensorflow.keras import models\n",
        "from tensorflow.keras import layers\n",
        "\n",
        "model = models.Sequential()\n",
        "model.add(conv_base)\n",
        "model.add(layers.Flatten())\n",
        "model.add(layers.Dense(256, activation='relu'))\n",
        "model.add(layers.Dense(10, activation='softmax'))\n",
        "\n"
      ],
      "metadata": {
        "id": "WO-n7_iv-vBs"
      },
      "execution_count": 17,
      "outputs": []
    },
    {
      "cell_type": "code",
      "source": [
        "model.summary()"
      ],
      "metadata": {
        "colab": {
          "base_uri": "https://localhost:8080/"
        },
        "id": "V85Glj_U-vD9",
        "outputId": "ff7b8bcc-1106-4f2f-dc8d-9217a806a985"
      },
      "execution_count": 18,
      "outputs": [
        {
          "output_type": "stream",
          "name": "stdout",
          "text": [
            "Model: \"sequential_1\"\n",
            "_________________________________________________________________\n",
            " Layer (type)                Output Shape              Param #   \n",
            "=================================================================\n",
            " vgg16 (Functional)          (None, 4, 4, 512)         14714688  \n",
            "                                                                 \n",
            " flatten (Flatten)           (None, 8192)              0         \n",
            "                                                                 \n",
            " dense_2 (Dense)             (None, 256)               2097408   \n",
            "                                                                 \n",
            " dense_3 (Dense)             (None, 10)                2570      \n",
            "                                                                 \n",
            "=================================================================\n",
            "Total params: 16,814,666\n",
            "Trainable params: 16,814,666\n",
            "Non-trainable params: 0\n",
            "_________________________________________________________________\n"
          ]
        }
      ]
    },
    {
      "cell_type": "markdown",
      "source": [
        "**thera are 16 M parameter in this model can be trained**"
      ],
      "metadata": {
        "id": "YbvSgaK05Az_"
      }
    },
    {
      "cell_type": "code",
      "source": [
        "print('This is the number of trainable weights '\n",
        "      'before freezing the conv base:', len(model.trainable_weights))\n",
        "\n"
      ],
      "metadata": {
        "colab": {
          "base_uri": "https://localhost:8080/"
        },
        "id": "fGUcYCbU-vGj",
        "outputId": "3754d86b-1e9e-4605-b969-814aab3a4d1c"
      },
      "execution_count": 19,
      "outputs": [
        {
          "output_type": "stream",
          "name": "stdout",
          "text": [
            "This is the number of trainable weights before freezing the conv base: 30\n"
          ]
        }
      ]
    },
    {
      "cell_type": "code",
      "source": [
        "conv_base.trainable = False\n",
        "print('This is the number of trainable weights '\n",
        "      'after freezing the conv base:', len(model.trainable_weights))"
      ],
      "metadata": {
        "colab": {
          "base_uri": "https://localhost:8080/"
        },
        "id": "1A_yKkbZ-73G",
        "outputId": "50793b40-61e3-41d1-dd3d-d32426473013"
      },
      "execution_count": 20,
      "outputs": [
        {
          "output_type": "stream",
          "name": "stdout",
          "text": [
            "This is the number of trainable weights after freezing the conv base: 4\n"
          ]
        }
      ]
    },
    {
      "cell_type": "markdown",
      "source": [
        "# Data Augmentation"
      ],
      "metadata": {
        "id": "McnHp-eJ_CQv"
      }
    },
    {
      "cell_type": "code",
      "source": [
        "\n",
        "import math\n",
        "BATCH_SIZE =32\n",
        "\n",
        "TRAINING_SIZE = 3068\n",
        "\n",
        "VALIDATION_SIZE = 341\n",
        "\n",
        "compute_steps_per_epoch = lambda x: int(math.ceil(1. * x / BATCH_SIZE))\n",
        "\n",
        "steps_per_epoch = compute_steps_per_epoch(TRAINING_SIZE)\n",
        "val_steps = compute_steps_per_epoch(VALIDATION_SIZE)\n"
      ],
      "metadata": {
        "id": "HxrrXSRWBNlu"
      },
      "execution_count": 21,
      "outputs": []
    },
    {
      "cell_type": "code",
      "source": [
        "from tensorflow.keras.preprocessing.image import ImageDataGenerator\n",
        " \n",
        "train_datagen = ImageDataGenerator(\n",
        "      rescale=1./255,\n",
        "      rotation_range=40,\n",
        "      width_shift_range=0.2,\n",
        "      height_shift_range=0.2,\n",
        "      shear_range=0.2,\n",
        "      zoom_range=0.2,\n",
        "      horizontal_flip=True)\n",
        "\n",
        "# Note that the validation data should not be augmented!\n",
        "test_datagen = ImageDataGenerator(rescale=1./255)\n",
        "\n",
        "train_generator = train_datagen.flow_from_directory(\n",
        "        # This is the target directory\n",
        "        train_dir,\n",
        "        # All images will be resized to 150x150\n",
        "        target_size=(150, 150),\n",
        "        batch_size=20)\n",
        "\n",
        "validation_generator = test_datagen.flow_from_directory(\n",
        "        validation_dir,\n",
        "        target_size=(150, 150),\n",
        "        batch_size=20)\n",
        "\n",
        "model.compile(loss=keras.losses.CategoricalCrossentropy(from_logits=True),\n",
        "              optimizer=keras.optimizers.RMSprop(learning_rate=0.001),\n",
        "              metrics=['acc'])\n",
        "\n",
        "history = model.fit_generator(\n",
        "      train_generator,\n",
        "      steps_per_epoch=steps_per_epoch,\n",
        "      epochs=15,\n",
        "      validation_data=validation_generator,\n",
        "      validation_steps=val_steps)"
      ],
      "metadata": {
        "colab": {
          "base_uri": "https://localhost:8080/"
        },
        "id": "vJGoqvuZ_Btl",
        "outputId": "88693c30-50ef-4627-fe19-299d0d627af7"
      },
      "execution_count": 22,
      "outputs": [
        {
          "output_type": "stream",
          "name": "stdout",
          "text": [
            "Found 3068 images belonging to 10 classes.\n",
            "Found 341 images belonging to 10 classes.\n"
          ]
        },
        {
          "output_type": "stream",
          "name": "stderr",
          "text": [
            "/usr/local/lib/python3.7/dist-packages/ipykernel_launcher.py:36: UserWarning: `Model.fit_generator` is deprecated and will be removed in a future version. Please use `Model.fit`, which supports generators.\n"
          ]
        },
        {
          "output_type": "stream",
          "name": "stdout",
          "text": [
            "Epoch 1/15\n"
          ]
        },
        {
          "output_type": "stream",
          "name": "stderr",
          "text": [
            "/usr/local/lib/python3.7/dist-packages/tensorflow/python/util/dispatch.py:1082: UserWarning: \"`categorical_crossentropy` received `from_logits=True`, but the `output` argument was produced by a sigmoid or softmax activation and thus does not represent logits. Was this intended?\"\n",
            "  return dispatch_target(*args, **kwargs)\n"
          ]
        },
        {
          "output_type": "stream",
          "name": "stdout",
          "text": [
            "96/96 [==============================] - 34s 340ms/step - loss: 1.9598 - acc: 0.4303 - val_loss: 1.0643 - val_acc: 0.6727\n",
            "Epoch 2/15\n",
            "96/96 [==============================] - 24s 246ms/step - loss: 1.2258 - acc: 0.5901 - val_loss: 1.0589 - val_acc: 0.6545\n",
            "Epoch 3/15\n",
            "96/96 [==============================] - 24s 247ms/step - loss: 1.1248 - acc: 0.6172 - val_loss: 0.9044 - val_acc: 0.7000\n",
            "Epoch 4/15\n",
            "96/96 [==============================] - 25s 257ms/step - loss: 1.0314 - acc: 0.6494 - val_loss: 0.7392 - val_acc: 0.7455\n",
            "Epoch 5/15\n",
            "96/96 [==============================] - 24s 247ms/step - loss: 0.9298 - acc: 0.6923 - val_loss: 0.7073 - val_acc: 0.7682\n",
            "Epoch 6/15\n",
            "96/96 [==============================] - 24s 246ms/step - loss: 0.9059 - acc: 0.6833 - val_loss: 0.8105 - val_acc: 0.7682\n",
            "Epoch 7/15\n",
            "96/96 [==============================] - 24s 245ms/step - loss: 0.8766 - acc: 0.6950 - val_loss: 0.6054 - val_acc: 0.7818\n",
            "Epoch 8/15\n",
            "96/96 [==============================] - 23s 244ms/step - loss: 0.8231 - acc: 0.7078 - val_loss: 0.7339 - val_acc: 0.7727\n",
            "Epoch 9/15\n",
            "96/96 [==============================] - 23s 243ms/step - loss: 0.8330 - acc: 0.7175 - val_loss: 0.8264 - val_acc: 0.7091\n",
            "Epoch 10/15\n",
            "96/96 [==============================] - 23s 243ms/step - loss: 0.8137 - acc: 0.7159 - val_loss: 0.9074 - val_acc: 0.7045\n",
            "Epoch 11/15\n",
            "96/96 [==============================] - 23s 243ms/step - loss: 0.7773 - acc: 0.7250 - val_loss: 0.7250 - val_acc: 0.7727\n",
            "Epoch 12/15\n",
            "96/96 [==============================] - 23s 242ms/step - loss: 0.7662 - acc: 0.7327 - val_loss: 0.6558 - val_acc: 0.7909\n",
            "Epoch 13/15\n",
            "96/96 [==============================] - 23s 243ms/step - loss: 0.7424 - acc: 0.7453 - val_loss: 0.6528 - val_acc: 0.7682\n",
            "Epoch 14/15\n",
            "96/96 [==============================] - 23s 242ms/step - loss: 0.7351 - acc: 0.7500 - val_loss: 0.7380 - val_acc: 0.7500\n",
            "Epoch 15/15\n",
            "96/96 [==============================] - 23s 243ms/step - loss: 0.7030 - acc: 0.7594 - val_loss: 0.7453 - val_acc: 0.7545\n"
          ]
        }
      ]
    },
    {
      "cell_type": "markdown",
      "source": [
        "# Fine tuning some layers\n",
        "Try to use some of the early layers so the model can learn some new features realted to our field , so we try to un freezing some of tbe early layers"
      ],
      "metadata": {
        "id": "aePInjBkMY84"
      }
    },
    {
      "cell_type": "code",
      "source": [
        "conv_base.trainable = True\n",
        "\n",
        "set_trainable = False\n",
        "for layer in conv_base.layers:\n",
        "    if layer.name == 'block5_conv1':\n",
        "        set_trainable = True\n",
        "    if set_trainable:\n",
        "        layer.trainable = True\n",
        "    else:\n",
        "        layer.trainable = False"
      ],
      "metadata": {
        "id": "ZGKeMEJ2Cwwd"
      },
      "execution_count": 23,
      "outputs": []
    },
    {
      "cell_type": "code",
      "source": [
        "callbacks = [keras.callbacks.EarlyStopping(monitor='val_loss',patience=10),\n",
        "             keras.callbacks.ReduceLROnPlateau(monitor='val_loss', factor=0.25,patience=3,verbose=1),\n",
        "             keras.callbacks.ModelCheckpoint(\n",
        "        \"VGG_.h5\",\n",
        "        monitor=\"val_accuracy\",\n",
        "        save_best_only=True,\n",
        "        mode='max'\n",
        "    )]\n",
        "\n",
        "model.compile(loss=keras.losses.CategoricalCrossentropy(from_logits=True),\n",
        "              optimizer=keras.optimizers.RMSprop(0.001),\n",
        "              metrics=['acc'])\n",
        "history = model.fit_generator(\n",
        "      train_generator,\n",
        "      steps_per_epoch=steps_per_epoch,\n",
        "      epochs=15,\n",
        "      validation_data=validation_generator,\n",
        "      validation_steps=val_steps,\n",
        "      callbacks=callbacks)"
      ],
      "metadata": {
        "colab": {
          "base_uri": "https://localhost:8080/"
        },
        "id": "4s5dMOEyC0DW",
        "outputId": "7300b7ce-6302-4f46-f37c-ea0d0ced4937"
      },
      "execution_count": 24,
      "outputs": [
        {
          "output_type": "stream",
          "name": "stderr",
          "text": [
            "/usr/local/lib/python3.7/dist-packages/ipykernel_launcher.py:19: UserWarning: `Model.fit_generator` is deprecated and will be removed in a future version. Please use `Model.fit`, which supports generators.\n"
          ]
        },
        {
          "output_type": "stream",
          "name": "stdout",
          "text": [
            "Epoch 1/15\n"
          ]
        },
        {
          "output_type": "stream",
          "name": "stderr",
          "text": [
            "/usr/local/lib/python3.7/dist-packages/tensorflow/python/util/dispatch.py:1082: UserWarning: \"`categorical_crossentropy` received `from_logits=True`, but the `output` argument was produced by a sigmoid or softmax activation and thus does not represent logits. Was this intended?\"\n",
            "  return dispatch_target(*args, **kwargs)\n"
          ]
        },
        {
          "output_type": "stream",
          "name": "stdout",
          "text": [
            "96/96 [==============================] - ETA: 0s - loss: 27.1694 - acc: 0.2374WARNING:tensorflow:Can save best model only with val_accuracy available, skipping.\n",
            "96/96 [==============================] - 27s 256ms/step - loss: 27.1694 - acc: 0.2374 - val_loss: 2.1027 - val_acc: 0.2818 - lr: 0.0010\n",
            "Epoch 2/15\n",
            "96/96 [==============================] - ETA: 0s - loss: 2.2314 - acc: 0.2885WARNING:tensorflow:Can save best model only with val_accuracy available, skipping.\n",
            "96/96 [==============================] - 24s 253ms/step - loss: 2.2314 - acc: 0.2885 - val_loss: 1.8765 - val_acc: 0.3409 - lr: 0.0010\n",
            "Epoch 3/15\n",
            "96/96 [==============================] - ETA: 0s - loss: 1.7806 - acc: 0.4282WARNING:tensorflow:Can save best model only with val_accuracy available, skipping.\n",
            "96/96 [==============================] - 24s 253ms/step - loss: 1.7806 - acc: 0.4282 - val_loss: 1.4872 - val_acc: 0.4727 - lr: 0.0010\n",
            "Epoch 4/15\n",
            "96/96 [==============================] - ETA: 0s - loss: 1.4578 - acc: 0.5058WARNING:tensorflow:Can save best model only with val_accuracy available, skipping.\n",
            "96/96 [==============================] - 24s 254ms/step - loss: 1.4578 - acc: 0.5058 - val_loss: 1.2375 - val_acc: 0.5409 - lr: 0.0010\n",
            "Epoch 5/15\n",
            "96/96 [==============================] - ETA: 0s - loss: 1.3421 - acc: 0.5556WARNING:tensorflow:Can save best model only with val_accuracy available, skipping.\n",
            "96/96 [==============================] - 24s 253ms/step - loss: 1.3421 - acc: 0.5556 - val_loss: 1.0832 - val_acc: 0.6000 - lr: 0.0010\n",
            "Epoch 6/15\n",
            "96/96 [==============================] - ETA: 0s - loss: 1.1389 - acc: 0.6279WARNING:tensorflow:Can save best model only with val_accuracy available, skipping.\n",
            "96/96 [==============================] - 24s 254ms/step - loss: 1.1389 - acc: 0.6279 - val_loss: 0.9601 - val_acc: 0.6818 - lr: 0.0010\n",
            "Epoch 7/15\n",
            "96/96 [==============================] - ETA: 0s - loss: 1.1712 - acc: 0.6468WARNING:tensorflow:Can save best model only with val_accuracy available, skipping.\n",
            "96/96 [==============================] - 24s 253ms/step - loss: 1.1712 - acc: 0.6468 - val_loss: 0.7237 - val_acc: 0.7909 - lr: 0.0010\n",
            "Epoch 8/15\n",
            "96/96 [==============================] - ETA: 0s - loss: 1.0920 - acc: 0.6542WARNING:tensorflow:Can save best model only with val_accuracy available, skipping.\n",
            "96/96 [==============================] - 25s 255ms/step - loss: 1.0920 - acc: 0.6542 - val_loss: 0.7141 - val_acc: 0.7682 - lr: 0.0010\n",
            "Epoch 9/15\n",
            "96/96 [==============================] - ETA: 0s - loss: 0.9779 - acc: 0.6829WARNING:tensorflow:Can save best model only with val_accuracy available, skipping.\n",
            "96/96 [==============================] - 24s 254ms/step - loss: 0.9779 - acc: 0.6829 - val_loss: 0.5781 - val_acc: 0.8182 - lr: 0.0010\n",
            "Epoch 10/15\n",
            "96/96 [==============================] - ETA: 0s - loss: 0.9396 - acc: 0.7112WARNING:tensorflow:Can save best model only with val_accuracy available, skipping.\n",
            "96/96 [==============================] - 25s 254ms/step - loss: 0.9396 - acc: 0.7112 - val_loss: 0.8190 - val_acc: 0.7455 - lr: 0.0010\n",
            "Epoch 11/15\n",
            "96/96 [==============================] - ETA: 0s - loss: 0.9281 - acc: 0.7094WARNING:tensorflow:Can save best model only with val_accuracy available, skipping.\n",
            "96/96 [==============================] - 25s 254ms/step - loss: 0.9281 - acc: 0.7094 - val_loss: 0.5543 - val_acc: 0.8000 - lr: 0.0010\n",
            "Epoch 12/15\n",
            "96/96 [==============================] - ETA: 0s - loss: 0.9007 - acc: 0.7091WARNING:tensorflow:Can save best model only with val_accuracy available, skipping.\n",
            "96/96 [==============================] - 25s 254ms/step - loss: 0.9007 - acc: 0.7091 - val_loss: 0.5761 - val_acc: 0.8182 - lr: 0.0010\n",
            "Epoch 13/15\n",
            "96/96 [==============================] - ETA: 0s - loss: 0.8992 - acc: 0.7285WARNING:tensorflow:Can save best model only with val_accuracy available, skipping.\n",
            "96/96 [==============================] - 25s 255ms/step - loss: 0.8992 - acc: 0.7285 - val_loss: 0.6325 - val_acc: 0.8273 - lr: 0.0010\n",
            "Epoch 14/15\n",
            "96/96 [==============================] - ETA: 0s - loss: 0.9145 - acc: 0.7224\n",
            "Epoch 14: ReduceLROnPlateau reducing learning rate to 0.0002500000118743628.\n",
            "WARNING:tensorflow:Can save best model only with val_accuracy available, skipping.\n",
            "96/96 [==============================] - 25s 258ms/step - loss: 0.9145 - acc: 0.7224 - val_loss: 1.5883 - val_acc: 0.7636 - lr: 0.0010\n",
            "Epoch 15/15\n",
            "96/96 [==============================] - ETA: 0s - loss: 0.6220 - acc: 0.8014WARNING:tensorflow:Can save best model only with val_accuracy available, skipping.\n",
            "96/96 [==============================] - 24s 253ms/step - loss: 0.6220 - acc: 0.8014 - val_loss: 0.5406 - val_acc: 0.8636 - lr: 2.5000e-04\n"
          ]
        }
      ]
    },
    {
      "cell_type": "code",
      "source": [
        "model.save('M2_vgg.h5')"
      ],
      "metadata": {
        "id": "GIzrPiCtC7Qw"
      },
      "execution_count": 25,
      "outputs": []
    },
    {
      "cell_type": "code",
      "source": [
        "#visualize the model\n",
        "visualize(history)"
      ],
      "metadata": {
        "colab": {
          "base_uri": "https://localhost:8080/",
          "height": 545
        },
        "id": "0Og8k_skC7Vf",
        "outputId": "ab8c76d0-5a72-483e-88ef-686eb2171e10"
      },
      "execution_count": 26,
      "outputs": [
        {
          "output_type": "display_data",
          "data": {
            "text/plain": [
              "<Figure size 432x288 with 1 Axes>"
            ],
            "image/png": "[encoded data removed]"
          },
          "metadata": {
            "needs_background": "light"
          }
        },
        {
          "output_type": "display_data",
          "data": {
            "text/plain": [
              "<Figure size 432x288 with 1 Axes>"
            ],
            "image/png": "[encoded data removed]"
          },
          "metadata": {
            "needs_background": "light"
          }
        }
      ]
    },
    {
      "cell_type": "markdown",
      "source": [
        "# Try using another model(Xception)"
      ],
      "metadata": {
        "id": "KFEY6bbZOvUB"
      }
    },
    {
      "cell_type": "code",
      "source": [
        "from tensorflow.keras.applications.xception import Xception\n",
        "from tensorflow.keras.applications.xception import preprocess_input\n",
        "from tensorflow.keras.applications.xception import decode_predictions\n",
        "from tensorflow.keras.preprocessing.image import ImageDataGenerator"
      ],
      "metadata": {
        "id": "8xf4cPFjDKbn"
      },
      "execution_count": 27,
      "outputs": []
    },
    {
      "cell_type": "code",
      "source": [
        "image_size = (150, 150)\n",
        "batch_size = 32"
      ],
      "metadata": {
        "id": "dCcsLSpgNSOT"
      },
      "execution_count": 28,
      "outputs": []
    },
    {
      "cell_type": "markdown",
      "source": [
        "Xception with diffrent preprocessing Function"
      ],
      "metadata": {
        "id": "MjB3pBii-02v"
      }
    },
    {
      "cell_type": "code",
      "source": [
        "train_gen = ImageDataGenerator(preprocessing_function=preprocess_input)\n",
        "\n",
        "train_ds = train_gen.flow_from_directory(\n",
        "    \"/content/clothing-dataset-small/train\",\n",
        "    seed=1,\n",
        "    target_size=image_size,\n",
        "    batch_size=batch_size,\n",
        ")"
      ],
      "metadata": {
        "colab": {
          "base_uri": "https://localhost:8080/"
        },
        "id": "HjQ_3XGJNSRO",
        "outputId": "84649f34-1d9d-4a14-8178-61238dbbee89"
      },
      "execution_count": 29,
      "outputs": [
        {
          "output_type": "stream",
          "name": "stdout",
          "text": [
            "Found 3068 images belonging to 10 classes.\n"
          ]
        }
      ]
    },
    {
      "cell_type": "code",
      "source": [
        "validation_gen = ImageDataGenerator(preprocessing_function=preprocess_input)\n",
        "\n",
        "val_ds = validation_gen.flow_from_directory(\n",
        "    \"/content/clothing-dataset-small/validation\",\n",
        "    seed=1,\n",
        "    target_size=image_size,\n",
        "    batch_size=batch_size,\n",
        ")"
      ],
      "metadata": {
        "colab": {
          "base_uri": "https://localhost:8080/"
        },
        "id": "OFXNJycXPS0e",
        "outputId": "94cd9765-c676-4489-80b6-5357b351c530"
      },
      "execution_count": 30,
      "outputs": [
        {
          "output_type": "stream",
          "name": "stdout",
          "text": [
            "Found 341 images belonging to 10 classes.\n"
          ]
        }
      ]
    },
    {
      "cell_type": "code",
      "source": [
        "#from focal_loss import SparseCategoricalFocalLoss\n",
        "\n",
        "def make_model(learning_rate):\n",
        "    base_model = Xception(\n",
        "        weights='imagenet',\n",
        "        input_shape=(150, 150, 3),\n",
        "        include_top=False\n",
        "    )\n",
        "\n",
        "    base_model.trainable = False\n",
        "\n",
        "    inputs = keras.Input(shape=(150, 150, 3))\n",
        "\n",
        "    base = base_model(inputs, training=False)\n",
        "    vector = keras.layers.GlobalAveragePooling2D()(base)\n",
        "    outputs = keras.layers.Dense(10)(vector)\n",
        "\n",
        "    model = keras.Model(inputs, outputs)\n",
        "    \n",
        "    model.compile(\n",
        "        optimizer=keras.optimizers.Adam(learning_rate),\n",
        "        loss=keras.losses.CategoricalCrossentropy(from_logits=True),\n",
        "        metrics=[\"accuracy\"],\n",
        "    )\n",
        "    \n",
        "    return model"
      ],
      "metadata": {
        "id": "sT4qR8EpNSTi"
      },
      "execution_count": 31,
      "outputs": []
    },
    {
      "cell_type": "code",
      "source": [
        "callbacks = [keras.callbacks.EarlyStopping(monitor='val_loss',patience=10),\n",
        "             keras.callbacks.ReduceLROnPlateau(monitor='val_loss', factor=0.25,patience=3,verbose=1),\n",
        "             keras.callbacks.ModelCheckpoint(\n",
        "        \"xception_v1_.h5\",\n",
        "        monitor=\"val_accuracy\",\n",
        "        save_best_only=True,\n",
        "        mode='max'\n",
        "    )]\n"
      ],
      "metadata": {
        "id": "ZA9rKLbXwtZI"
      },
      "execution_count": 32,
      "outputs": []
    },
    {
      "cell_type": "code",
      "source": [
        "model = make_model(learning_rate=0.001)\n",
        "history_0_001 = model.fit(train_ds, epochs=10, validation_data=val_ds,callbacks=callbacks)"
      ],
      "metadata": {
        "colab": {
          "base_uri": "https://localhost:8080/"
        },
        "id": "PCFSDY--PlE5",
        "outputId": "9eeb4ded-0a46-41ad-97a1-1a2f87aa7541"
      },
      "execution_count": 33,
      "outputs": [
        {
          "output_type": "stream",
          "name": "stdout",
          "text": [
            "Downloading data from https://storage.googleapis.com/tensorflow/keras-applications/xception/xception_weights_tf_dim_ordering_tf_kernels_notop.h5\n",
            "83689472/83683744 [==============================] - 1s 0us/step\n",
            "83697664/83683744 [==============================] - 1s 0us/step\n",
            "Epoch 1/10\n",
            "96/96 [==============================] - 27s 229ms/step - loss: 1.1192 - accuracy: 0.6167 - val_loss: 0.7297 - val_accuracy: 0.7771 - lr: 0.0010\n",
            "Epoch 2/10\n",
            "96/96 [==============================] - 19s 199ms/step - loss: 0.6461 - accuracy: 0.7784 - val_loss: 0.6571 - val_accuracy: 0.7801 - lr: 0.0010\n",
            "Epoch 3/10\n",
            "96/96 [==============================] - 19s 201ms/step - loss: 0.5146 - accuracy: 0.8305 - val_loss: 0.5763 - val_accuracy: 0.8240 - lr: 0.0010\n",
            "Epoch 4/10\n",
            "96/96 [==============================] - 19s 195ms/step - loss: 0.4404 - accuracy: 0.8615 - val_loss: 0.5512 - val_accuracy: 0.8211 - lr: 0.0010\n",
            "Epoch 5/10\n",
            "96/96 [==============================] - 19s 194ms/step - loss: 0.3803 - accuracy: 0.8817 - val_loss: 0.5489 - val_accuracy: 0.8240 - lr: 0.0010\n",
            "Epoch 6/10\n",
            "96/96 [==============================] - 19s 200ms/step - loss: 0.3304 - accuracy: 0.9078 - val_loss: 0.5179 - val_accuracy: 0.8475 - lr: 0.0010\n",
            "Epoch 7/10\n",
            "96/96 [==============================] - 19s 195ms/step - loss: 0.2954 - accuracy: 0.9195 - val_loss: 0.5424 - val_accuracy: 0.8123 - lr: 0.0010\n",
            "Epoch 8/10\n",
            "96/96 [==============================] - 19s 194ms/step - loss: 0.2662 - accuracy: 0.9348 - val_loss: 0.5276 - val_accuracy: 0.8270 - lr: 0.0010\n",
            "Epoch 9/10\n",
            "96/96 [==============================] - 19s 195ms/step - loss: 0.2421 - accuracy: 0.9439 - val_loss: 0.5167 - val_accuracy: 0.8328 - lr: 0.0010\n",
            "Epoch 10/10\n",
            "96/96 [==============================] - 19s 193ms/step - loss: 0.2136 - accuracy: 0.9534 - val_loss: 0.5236 - val_accuracy: 0.8152 - lr: 0.0010\n"
          ]
        }
      ]
    },
    {
      "cell_type": "code",
      "source": [
        "plt.figure(figsize=(6, 4))\n",
        "\n",
        "epochs = history_0_001.epoch\n",
        "val = history_0_001.history['val_accuracy']\n",
        "train = history_0_001.history['accuracy']\n",
        "\n",
        "plt.plot(epochs, val, color='black', linestyle='solid', label='validation')\n",
        "plt.plot(epochs, train, color='black', linestyle='dashed', label='train')\n",
        "\n",
        "plt.title('Xception v1, lr=0.001')\n",
        "plt.xlabel('Epoch')\n",
        "plt.ylabel('Accuracy')\n",
        "\n",
        "plt.xticks(epochs)\n",
        "\n",
        "plt.legend()\n",
        "\n",
        "\n",
        "plt.savefig('xception_v1_0_001.svg')\n",
        "\n",
        "plt.show()"
      ],
      "metadata": {
        "id": "D9Vc6p0nPs_C",
        "colab": {
          "base_uri": "https://localhost:8080/",
          "height": 295
        },
        "outputId": "5a5a5765-b6ad-4c1f-eecc-bfa6ba084e87"
      },
      "execution_count": 34,
      "outputs": [
        {
          "output_type": "display_data",
          "data": {
            "text/plain": [
              "<Figure size 432x288 with 1 Axes>"
            ],
            "image/png": "[encoded data removed]"
          },
          "metadata": {
            "needs_background": "light"
          }
        }
      ]
    },
    {
      "cell_type": "markdown",
      "source": [
        "# Data Augmentation with a Large Inception model"
      ],
      "metadata": {
        "id": "vX9I6K-vP_-p"
      }
    },
    {
      "cell_type": "code",
      "source": [
        "def make_model(learning_rate, droprate):\n",
        "    base_model = Xception(\n",
        "        weights='imagenet',\n",
        "        input_shape=(299, 299, 3),\n",
        "        include_top=False\n",
        "    )\n",
        "\n",
        "    base_model.trainable = False\n",
        "\n",
        "    inputs = keras.Input(shape=(299, 299, 3))\n",
        "\n",
        "    base = base_model(inputs, training=False)\n",
        "    vector = keras.layers.GlobalAveragePooling2D()(base)\n",
        "\n",
        "    inner = keras.layers.Dense(100, activation='relu')(vector)\n",
        "    drop = keras.layers.Dropout(droprate)(inner)\n",
        "\n",
        "    outputs = keras.layers.Dense(10)(drop)\n",
        "\n",
        "    model = keras.Model(inputs, outputs)\n",
        "    \n",
        "    model.compile(\n",
        "        optimizer=keras.optimizers.Adam(learning_rate),\n",
        "        loss=keras.losses.CategoricalCrossentropy(from_logits=True),\n",
        "        metrics=[\"accuracy\"],\n",
        "    )\n",
        "    \n",
        "    return model"
      ],
      "metadata": {
        "id": "17vvg6rZPx96"
      },
      "execution_count": 35,
      "outputs": []
    },
    {
      "cell_type": "code",
      "source": [
        "image_size = (299, 299)\n",
        "batch_size = 32"
      ],
      "metadata": {
        "id": "BkA8x3dbQLrZ"
      },
      "execution_count": 36,
      "outputs": []
    },
    {
      "cell_type": "code",
      "source": [
        "train_gen = ImageDataGenerator(\n",
        "    preprocessing_function=preprocess_input,\n",
        "    shear_range=10.0,\n",
        "    zoom_range=0.1,\n",
        "    horizontal_flip=True,  \n",
        ")\n",
        "\n",
        "train_ds = train_gen.flow_from_directory(\n",
        "    \"/content/clothing-dataset-small/train\",\n",
        "    seed=1,\n",
        "    target_size=image_size,\n",
        "    batch_size=batch_size,\n",
        ")"
      ],
      "metadata": {
        "id": "k9UiQSgOQLwZ",
        "colab": {
          "base_uri": "https://localhost:8080/"
        },
        "outputId": "fd997a94-99d6-4ec1-c8aa-ccd2a9f3737b"
      },
      "execution_count": 37,
      "outputs": [
        {
          "output_type": "stream",
          "name": "stdout",
          "text": [
            "Found 3068 images belonging to 10 classes.\n"
          ]
        }
      ]
    },
    {
      "cell_type": "code",
      "source": [
        "validation_gen = ImageDataGenerator(preprocessing_function=preprocess_input)\n",
        "\n",
        "val_ds = validation_gen.flow_from_directory(\n",
        "    \"/content/clothing-dataset-small/validation\",\n",
        "    seed=1,\n",
        "    target_size=image_size,\n",
        "    batch_size=batch_size,\n",
        ")"
      ],
      "metadata": {
        "id": "pKDDL0WoQRoK",
        "colab": {
          "base_uri": "https://localhost:8080/"
        },
        "outputId": "f6923dab-7731-4b5a-f85d-dd225e9da0e2"
      },
      "execution_count": 38,
      "outputs": [
        {
          "output_type": "stream",
          "name": "stdout",
          "text": [
            "Found 341 images belonging to 10 classes.\n"
          ]
        }
      ]
    },
    {
      "cell_type": "code",
      "source": [
        "model = make_model(learning_rate=0.001, droprate=0.2)\n",
        "\n",
        "callbacks = [keras.callbacks.EarlyStopping(monitor='val_loss',patience=10),\n",
        "             keras.callbacks.ReduceLROnPlateau(monitor='val_loss', factor=0.25,patience=3,verbose=1),\n",
        "             keras.callbacks.ModelCheckpoint(\n",
        "        \"xception_v1_{epoch:02d}_{val_accuracy:.3f}.h5\",\n",
        "        monitor=\"val_accuracy\",\n",
        "        save_best_only=True,\n",
        "        mode='max'\n",
        "    )]\n",
        "history_l = model.fit(train_ds, epochs=20, validation_data=val_ds, callbacks=callbacks)"
      ],
      "metadata": {
        "id": "SkjOKNbyQRqb",
        "colab": {
          "base_uri": "https://localhost:8080/"
        },
        "outputId": "62e3f00c-93b5-49e1-ff44-55a372503332"
      },
      "execution_count": 39,
      "outputs": [
        {
          "output_type": "stream",
          "name": "stdout",
          "text": [
            "Epoch 1/20\n",
            "96/96 [==============================] - 103s 1s/step - loss: 0.8236 - accuracy: 0.7288 - val_loss: 0.4532 - val_accuracy: 0.8416 - lr: 0.0010\n",
            "Epoch 2/20\n",
            "96/96 [==============================] - 98s 1s/step - loss: 0.4528 - accuracy: 0.8491 - val_loss: 0.4000 - val_accuracy: 0.8475 - lr: 0.0010\n",
            "Epoch 3/20\n",
            "96/96 [==============================] - 94s 978ms/step - loss: 0.3718 - accuracy: 0.8686 - val_loss: 0.4076 - val_accuracy: 0.8680 - lr: 0.0010\n",
            "Epoch 4/20\n",
            "96/96 [==============================] - 95s 983ms/step - loss: 0.3260 - accuracy: 0.8830 - val_loss: 0.3870 - val_accuracy: 0.8798 - lr: 0.0010\n",
            "Epoch 5/20\n",
            "96/96 [==============================] - 94s 980ms/step - loss: 0.2989 - accuracy: 0.9038 - val_loss: 0.3807 - val_accuracy: 0.8739 - lr: 0.0010\n",
            "Epoch 6/20\n",
            "96/96 [==============================] - 94s 979ms/step - loss: 0.2708 - accuracy: 0.9022 - val_loss: 0.3641 - val_accuracy: 0.8710 - lr: 0.0010\n",
            "Epoch 7/20\n",
            "96/96 [==============================] - 94s 978ms/step - loss: 0.2522 - accuracy: 0.9140 - val_loss: 0.3914 - val_accuracy: 0.8534 - lr: 0.0010\n",
            "Epoch 8/20\n",
            "96/96 [==============================] - 94s 978ms/step - loss: 0.2255 - accuracy: 0.9201 - val_loss: 0.3910 - val_accuracy: 0.8768 - lr: 0.0010\n",
            "Epoch 9/20\n",
            "96/96 [==============================] - ETA: 0s - loss: 0.2196 - accuracy: 0.9198\n",
            "Epoch 9: ReduceLROnPlateau reducing learning rate to 0.0002500000118743628.\n",
            "96/96 [==============================] - 96s 997ms/step - loss: 0.2196 - accuracy: 0.9198 - val_loss: 0.3779 - val_accuracy: 0.8856 - lr: 0.0010\n",
            "Epoch 10/20\n",
            "96/96 [==============================] - 95s 992ms/step - loss: 0.1763 - accuracy: 0.9410 - val_loss: 0.3547 - val_accuracy: 0.8886 - lr: 2.5000e-04\n",
            "Epoch 11/20\n",
            "96/96 [==============================] - 94s 981ms/step - loss: 0.1614 - accuracy: 0.9472 - val_loss: 0.3572 - val_accuracy: 0.8886 - lr: 2.5000e-04\n",
            "Epoch 12/20\n",
            "96/96 [==============================] - 95s 989ms/step - loss: 0.1550 - accuracy: 0.9492 - val_loss: 0.3614 - val_accuracy: 0.8768 - lr: 2.5000e-04\n",
            "Epoch 13/20\n",
            "96/96 [==============================] - ETA: 0s - loss: 0.1554 - accuracy: 0.9488\n",
            "Epoch 13: ReduceLROnPlateau reducing learning rate to 6.25000029685907e-05.\n",
            "96/96 [==============================] - 96s 993ms/step - loss: 0.1554 - accuracy: 0.9488 - val_loss: 0.3650 - val_accuracy: 0.8856 - lr: 2.5000e-04\n",
            "Epoch 14/20\n",
            "96/96 [==============================] - 95s 989ms/step - loss: 0.1414 - accuracy: 0.9524 - val_loss: 0.3603 - val_accuracy: 0.8827 - lr: 6.2500e-05\n",
            "Epoch 15/20\n",
            "96/96 [==============================] - 95s 988ms/step - loss: 0.1396 - accuracy: 0.9602 - val_loss: 0.3620 - val_accuracy: 0.8798 - lr: 6.2500e-05\n",
            "Epoch 16/20\n",
            "96/96 [==============================] - ETA: 0s - loss: 0.1436 - accuracy: 0.9560\n",
            "Epoch 16: ReduceLROnPlateau reducing learning rate to 1.5625000742147677e-05.\n",
            "96/96 [==============================] - 96s 998ms/step - loss: 0.1436 - accuracy: 0.9560 - val_loss: 0.3632 - val_accuracy: 0.8768 - lr: 6.2500e-05\n",
            "Epoch 17/20\n",
            "96/96 [==============================] - 95s 992ms/step - loss: 0.1351 - accuracy: 0.9563 - val_loss: 0.3619 - val_accuracy: 0.8768 - lr: 1.5625e-05\n",
            "Epoch 18/20\n",
            "96/96 [==============================] - 95s 989ms/step - loss: 0.1347 - accuracy: 0.9544 - val_loss: 0.3620 - val_accuracy: 0.8768 - lr: 1.5625e-05\n",
            "Epoch 19/20\n",
            "96/96 [==============================] - ETA: 0s - loss: 0.1326 - accuracy: 0.9586\n",
            "Epoch 19: ReduceLROnPlateau reducing learning rate to 3.906250185536919e-06.\n",
            "96/96 [==============================] - 95s 985ms/step - loss: 0.1326 - accuracy: 0.9586 - val_loss: 0.3630 - val_accuracy: 0.8768 - lr: 1.5625e-05\n",
            "Epoch 20/20\n",
            "96/96 [==============================] - 95s 984ms/step - loss: 0.1323 - accuracy: 0.9596 - val_loss: 0.3622 - val_accuracy: 0.8768 - lr: 3.9063e-06\n"
          ]
        }
      ]
    },
    {
      "cell_type": "code",
      "source": [
        "model.save('/content/drive/MyDrive/Mfinal.h5')"
      ],
      "metadata": {
        "id": "jK_hKC8fuMBP"
      },
      "execution_count": 40,
      "outputs": []
    },
    {
      "cell_type": "code",
      "source": [
        "model = keras.models.load_model('/content/drive/MyDrive/Mfinal.h5')"
      ],
      "metadata": {
        "id": "I6lufEAR4_zR"
      },
      "execution_count": 41,
      "outputs": []
    },
    {
      "cell_type": "code",
      "source": [
        "test_gen = ImageDataGenerator(preprocessing_function=preprocess_input)\n",
        "\n",
        "test_ds = test_gen.flow_from_directory(\n",
        "    \"/content/clothing-dataset-small/test\",\n",
        "    shuffle=False,\n",
        "    target_size=image_size,\n",
        "    batch_size=32,\n",
        ")"
      ],
      "metadata": {
        "id": "dtb1r8Bn5Opk",
        "colab": {
          "base_uri": "https://localhost:8080/"
        },
        "outputId": "d858f781-2acd-42ba-ac03-9435843040bf"
      },
      "execution_count": 42,
      "outputs": [
        {
          "output_type": "stream",
          "name": "stdout",
          "text": [
            "Found 372 images belonging to 10 classes.\n"
          ]
        }
      ]
    },
    {
      "cell_type": "code",
      "source": [
        "model.evaluate(test_ds)"
      ],
      "metadata": {
        "id": "Ze7kc7b75Ors",
        "colab": {
          "base_uri": "https://localhost:8080/"
        },
        "outputId": "1499a7b7-c9f1-40af-d678-90ad104b5d74"
      },
      "execution_count": 43,
      "outputs": [
        {
          "output_type": "stream",
          "name": "stdout",
          "text": [
            "12/12 [==============================] - 9s 656ms/step - loss: 0.2726 - accuracy: 0.8978\n"
          ]
        },
        {
          "output_type": "execute_result",
          "data": {
            "text/plain": [
              "[0.27264559268951416, 0.897849440574646]"
            ]
          },
          "metadata": {},
          "execution_count": 43
        }
      ]
    },
    {
      "cell_type": "markdown",
      "source": [
        "The model performs even better than in the validation data: 90% on test vs 89% on validation"
      ],
      "metadata": {
        "id": "SUOpmXOo5-_Z"
      }
    },
    {
      "cell_type": "code",
      "source": [
        "from tensorflow.keras.applications import MobileNetV2\n",
        "from tensorflow.keras.applications.mobilenet_v2 import preprocess_input"
      ],
      "metadata": {
        "id": "-CdPbYYfJ68y"
      },
      "execution_count": 44,
      "outputs": []
    },
    {
      "cell_type": "code",
      "source": [
        "def make_model(learning_rate, droprate):\n",
        "    base_model = MobileNetV2(\n",
        "        weights='imagenet',\n",
        "        input_shape=(224, 224, 3),\n",
        "        include_top=False\n",
        "    )\n",
        "\n",
        "    base_model.trainable = False\n",
        "\n",
        "    inputs = keras.Input(shape=(224, 224, 3))\n",
        "\n",
        "    base = base_model(inputs, training=False)\n",
        "    vector = keras.layers.GlobalAveragePooling2D()(base)\n",
        "\n",
        "    inner = keras.layers.Dense(100, activation='relu')(vector)\n",
        "    drop = keras.layers.Dropout(droprate)(inner)\n",
        "\n",
        "    outputs = keras.layers.Dense(10)(drop)\n",
        "\n",
        "    model = keras.Model(inputs, outputs)\n",
        "    \n",
        "    model.compile(\n",
        "        optimizer=keras.optimizers.Adam(learning_rate),\n",
        "        loss=keras.losses.CategoricalCrossentropy(from_logits=True),\n",
        "        metrics=[\"accuracy\"],\n",
        "    )\n",
        "    \n",
        "    return model"
      ],
      "metadata": {
        "id": "WbmWWnhO07jq"
      },
      "execution_count": 45,
      "outputs": []
    },
    {
      "cell_type": "code",
      "source": [
        "model = make_model(learning_rate=0.001, droprate=0.2)\n",
        "\n",
        "callbacks = [keras.callbacks.EarlyStopping(monitor='val_loss',patience=10),\n",
        "             keras.callbacks.ReduceLROnPlateau(monitor='val_loss', factor=0.25,patience=3,verbose=1),\n",
        "             keras.callbacks.ModelCheckpoint(\n",
        "        \"MobileNetV2.h5\",\n",
        "        monitor=\"val_accuracy\",\n",
        "        save_best_only=True,\n",
        "        mode='max'\n",
        "    )]\n",
        "history_l = model.fit(train_ds, epochs=20, validation_data=val_ds, callbacks=callbacks)"
      ],
      "metadata": {
        "colab": {
          "base_uri": "https://localhost:8080/"
        },
        "id": "mHnlhKQA1zbU",
        "outputId": "2ddc1ff0-cbc1-4e07-c4e7-4bb5fa1d0742"
      },
      "execution_count": 46,
      "outputs": [
        {
          "output_type": "stream",
          "name": "stdout",
          "text": [
            "Downloading data from https://storage.googleapis.com/tensorflow/keras-applications/mobilenet_v2/mobilenet_v2_weights_tf_dim_ordering_tf_kernels_1.0_224_no_top.h5\n",
            "9412608/9406464 [==============================] - 0s 0us/step\n",
            "9420800/9406464 [==============================] - 0s 0us/step\n",
            "Epoch 1/20\n",
            "96/96 [==============================] - 84s 824ms/step - loss: 1.0094 - accuracy: 0.6682 - val_loss: 0.5350 - val_accuracy: 0.8299 - lr: 0.0010\n",
            "Epoch 2/20\n",
            "96/96 [==============================] - 76s 790ms/step - loss: 0.4894 - accuracy: 0.8331 - val_loss: 0.4401 - val_accuracy: 0.8651 - lr: 0.0010\n",
            "Epoch 3/20\n",
            "96/96 [==============================] - 76s 787ms/step - loss: 0.3809 - accuracy: 0.8667 - val_loss: 0.4092 - val_accuracy: 0.8651 - lr: 0.0010\n",
            "Epoch 4/20\n",
            "96/96 [==============================] - 77s 803ms/step - loss: 0.3198 - accuracy: 0.8921 - val_loss: 0.3809 - val_accuracy: 0.8710 - lr: 0.0010\n",
            "Epoch 5/20\n",
            "96/96 [==============================] - 77s 802ms/step - loss: 0.2651 - accuracy: 0.9029 - val_loss: 0.3959 - val_accuracy: 0.8563 - lr: 0.0010\n",
            "Epoch 6/20\n",
            "96/96 [==============================] - 77s 799ms/step - loss: 0.2360 - accuracy: 0.9169 - val_loss: 0.4704 - val_accuracy: 0.8534 - lr: 0.0010\n",
            "Epoch 7/20\n",
            "96/96 [==============================] - ETA: 0s - loss: 0.2163 - accuracy: 0.9254\n",
            "Epoch 7: ReduceLROnPlateau reducing learning rate to 0.0002500000118743628.\n",
            "96/96 [==============================] - 78s 814ms/step - loss: 0.2163 - accuracy: 0.9254 - val_loss: 0.3980 - val_accuracy: 0.8798 - lr: 0.0010\n",
            "Epoch 8/20\n",
            "96/96 [==============================] - 77s 804ms/step - loss: 0.1638 - accuracy: 0.9508 - val_loss: 0.3874 - val_accuracy: 0.8622 - lr: 2.5000e-04\n",
            "Epoch 9/20\n",
            "96/96 [==============================] - 77s 802ms/step - loss: 0.1406 - accuracy: 0.9544 - val_loss: 0.3860 - val_accuracy: 0.8680 - lr: 2.5000e-04\n",
            "Epoch 10/20\n",
            "96/96 [==============================] - ETA: 0s - loss: 0.1356 - accuracy: 0.9563\n",
            "Epoch 10: ReduceLROnPlateau reducing learning rate to 6.25000029685907e-05.\n",
            "96/96 [==============================] - 77s 803ms/step - loss: 0.1356 - accuracy: 0.9563 - val_loss: 0.4003 - val_accuracy: 0.8680 - lr: 2.5000e-04\n",
            "Epoch 11/20\n",
            "96/96 [==============================] - 76s 793ms/step - loss: 0.1207 - accuracy: 0.9654 - val_loss: 0.3876 - val_accuracy: 0.8710 - lr: 6.2500e-05\n",
            "Epoch 12/20\n",
            "96/96 [==============================] - 74s 775ms/step - loss: 0.1240 - accuracy: 0.9674 - val_loss: 0.3911 - val_accuracy: 0.8651 - lr: 6.2500e-05\n",
            "Epoch 13/20\n",
            "96/96 [==============================] - ETA: 0s - loss: 0.1292 - accuracy: 0.9615\n",
            "Epoch 13: ReduceLROnPlateau reducing learning rate to 1.5625000742147677e-05.\n",
            "96/96 [==============================] - 77s 799ms/step - loss: 0.1292 - accuracy: 0.9615 - val_loss: 0.3906 - val_accuracy: 0.8710 - lr: 6.2500e-05\n",
            "Epoch 14/20\n",
            "96/96 [==============================] - 75s 780ms/step - loss: 0.1190 - accuracy: 0.9638 - val_loss: 0.3912 - val_accuracy: 0.8739 - lr: 1.5625e-05\n"
          ]
        }
      ]
    },
    {
      "cell_type": "markdown",
      "source": [
        "The model achieves the same accursay as the xception model but the mobilenet_v2 is so light weight compare to the xception and vgg models  "
      ],
      "metadata": {
        "id": "m4icKfS_6Knl"
      }
    },
    {
      "cell_type": "code",
      "source": [
        "plt.figure(figsize=(6, 4))\n",
        "\n",
        "epochs =history_l.epoch\n",
        "val = history_l.history['val_accuracy']\n",
        "train = history_l.history['accuracy']\n",
        "\n",
        "plt.plot(epochs, val, color='black', linestyle='solid', label='validation')\n",
        "plt.plot(epochs, train, color='black', linestyle='dashed', label='train')\n",
        "\n",
        "plt.title('MobileNet, lr=0.001')\n",
        "plt.xlabel('Epoch')\n",
        "plt.ylabel('Accuracy')\n",
        "\n",
        "plt.xticks(epochs)\n",
        "\n",
        "plt.legend()\n",
        "\n",
        "\n",
        "plt.savefig('MobileNet.svg')\n",
        "\n",
        "plt.show()\n"
      ],
      "metadata": {
        "colab": {
          "base_uri": "https://localhost:8080/",
          "height": 295
        },
        "id": "jTob7tqo4yma",
        "outputId": "4a3cb34b-4b27-4516-85a4-1c64c2c07f59"
      },
      "execution_count": 47,
      "outputs": [
        {
          "output_type": "display_data",
          "data": {
            "text/plain": [
              "<Figure size 432x288 with 1 Axes>"
            ],
            "image/png": "[encoded data removed]"
          },
          "metadata": {
            "needs_background": "light"
          }
        }
      ]
    },
    {
      "cell_type": "code",
      "source": [
        "model.save('/content/drive/MyDrive/MobileNet_v2.h5')"
      ],
      "metadata": {
        "id": "9-F_W-4V4724"
      },
      "execution_count": 48,
      "outputs": []
    },
    {
      "cell_type": "markdown",
      "source": [
        "*Evaluate the model on the testing data*"
      ],
      "metadata": {
        "id": "-6-5yK0k53hk"
      }
    },
    {
      "cell_type": "code",
      "source": [
        "model.evaluate(test_ds)"
      ],
      "metadata": {
        "colab": {
          "base_uri": "https://localhost:8080/"
        },
        "id": "SRZWwKa8583I",
        "outputId": "e7ac5b1d-284f-424b-c63d-c6f410ab45c4"
      },
      "execution_count": 50,
      "outputs": [
        {
          "output_type": "stream",
          "name": "stdout",
          "text": [
            "12/12 [==============================] - 4s 261ms/step - loss: 0.3311 - accuracy: 0.8817\n"
          ]
        },
        {
          "output_type": "execute_result",
          "data": {
            "text/plain": [
              "[0.33106353878974915, 0.8817204236984253]"
            ]
          },
          "metadata": {},
          "execution_count": 50
        }
      ]
    }
  ]
}